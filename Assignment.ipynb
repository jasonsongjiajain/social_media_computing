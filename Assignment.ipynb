{
 "cells": [
  {
   "cell_type": "code",
   "execution_count": 1,
   "id": "b8beb6ff",
   "metadata": {},
   "outputs": [],
   "source": [
    "# Import Libraries\n",
    "import pandas as pd\n",
    "import numpy as np\n",
    "import matplotlib.pyplot as plt\n",
    "import plotly.express as px\n",
    "\n",
    "# Libraries for Sentiment Analysis\n",
    "import re\n",
    "import nltk\n",
    "from nltk.corpus import stopwords\n",
    "from nltk.corpus import wordnet\n",
    "from nltk.stem import WordNetLemmatizer\n",
    "from textblob import TextBlob\n",
    "from wordcloud import WordCloud"
   ]
  },
  {
   "cell_type": "code",
   "execution_count": 2,
   "id": "c2a1de3c",
   "metadata": {},
   "outputs": [],
   "source": [
    "trump = pd.read_csv(\"./dataset/US_selection_sentiment_analysis/hashtag_donaldtrump.csv\", engine='python')\n",
    "biden = pd.read_csv(\"./dataset/US_selection_sentiment_analysis/hashtag_joebiden.csv\", engine='python')"
   ]
  },
  {
   "cell_type": "code",
   "execution_count": 9,
   "id": "10942806",
   "metadata": {},
   "outputs": [
    {
     "name": "stdout",
     "output_type": "stream",
     "text": [
      "Index(['created_at', 'tweet_id', 'tweet', 'likes', 'retweet_count', 'source',\n",
      "       'user_id', 'user_name', 'user_screen_name', 'user_description',\n",
      "       'user_join_date', 'user_followers_count', 'user_location', 'lat',\n",
      "       'long', 'city', 'country', 'continent', 'state', 'state_code',\n",
      "       'collected_at'],\n",
      "      dtype='object')\n",
      "Index(['created_at', 'tweet_id', 'tweet', 'likes', 'retweet_count', 'source',\n",
      "       'user_id', 'user_name', 'user_screen_name', 'user_description',\n",
      "       'user_join_date', 'user_followers_count', 'user_location', 'lat',\n",
      "       'long', 'city', 'country', 'continent', 'state', 'state_code',\n",
      "       'collected_at'],\n",
      "      dtype='object')\n"
     ]
    }
   ],
   "source": [
    "print(trump.columns)\n",
    "print(biden.columns)"
   ]
  },
  {
   "cell_type": "code",
   "execution_count": 10,
   "id": "ebf23f10",
   "metadata": {},
   "outputs": [
    {
     "name": "stdout",
     "output_type": "stream",
     "text": [
      "(971087, 21)\n",
      "(777073, 21)\n"
     ]
    }
   ],
   "source": [
    "print(trump.shape)\n",
    "print(biden.shape)"
   ]
  },
  {
   "cell_type": "code",
   "execution_count": 12,
   "id": "234c593d",
   "metadata": {},
   "outputs": [
    {
     "name": "stdout",
     "output_type": "stream",
     "text": [
      "<bound method DataFrame.info of                  created_at                tweet_id  \\\n",
      "0       2020-10-15 00:00:01   1.316529221557252e+18   \n",
      "1       2020-10-15 00:00:01  1.3165292227484303e+18   \n",
      "2       2020-10-15 00:00:02   1.316529228091847e+18   \n",
      "3       2020-10-15 00:00:02   1.316529227471237e+18   \n",
      "4       2020-10-15 00:00:08  1.3165292523014513e+18   \n",
      "...                     ...                     ...   \n",
      "971082  2020-11-08 23:59:43  1.3255888434882765e+18   \n",
      "971083  2020-11-08 23:59:48  1.3255888660451942e+18   \n",
      "971084  2020-11-08 23:59:53  1.3255888855152271e+18   \n",
      "971085  2020-11-08 23:59:54  1.3255888929054024e+18   \n",
      "971086  2020-11-08 23:59:55  1.3255888944825344e+18   \n",
      "\n",
      "                                                    tweet  likes  \\\n",
      "0       #Elecciones2020 | En #Florida: #JoeBiden dice ...    0.0   \n",
      "1       Usa 2020, Trump contro Facebook e Twitter: cop...   26.0   \n",
      "2       #Trump: As a student I used to hear for years,...    2.0   \n",
      "3       2 hours since last tweet from #Trump! Maybe he...    0.0   \n",
      "4       You get a tie! And you get a tie! #Trump ‘s ra...    4.0   \n",
      "...                                                   ...    ...   \n",
      "971082  @PelleX @Mikerger @spiegelbilderz_ @BertiFranz...    0.0   \n",
      "971083  JOE BIDEN WHY JOE BIDEN DID WINNED ?? TRUMP TR...    4.0   \n",
      "971084  #AfD|ler reagieren panisch bis hysterisch auf ...   25.0   \n",
      "971085  @sammelbis1998 @iheartmindy @bnorthg First, yo...    0.0   \n",
      "971086  OK just had to do it !\\n#Trump #CatapultTrump ...  105.0   \n",
      "\n",
      "        retweet_count              source                user_id  \\\n",
      "0                 0.0           TweetDeck            360666534.0   \n",
      "1                 9.0    Social Mediaset             331617619.0   \n",
      "2                 1.0     Twitter Web App              8436472.0   \n",
      "3                 0.0       Trumpytweeter   8.28355589206057e+17   \n",
      "4                 3.0  Twitter for iPhone             47413798.0   \n",
      "...               ...                 ...                    ...   \n",
      "971082            0.0     Twitter Web App           3427951089.0   \n",
      "971083            0.0     Twitter Web App           3245258109.0   \n",
      "971084            4.0     Twitter Web App  9.866107585731788e+17   \n",
      "971085            0.0    Twitter for iPad            768781141.0   \n",
      "971086           28.0     Twitter Web App            451979107.0   \n",
      "\n",
      "                    user_name user_screen_name  \\\n",
      "0          El Sol Latino News  elsollatinonews   \n",
      "1                     Tgcom24  MediasetTgcom24   \n",
      "2                      snarke           snarke   \n",
      "3               Trumpytweeter    trumpytweeter   \n",
      "4       Rana Abtar - رنا أبتر        Ranaabtar   \n",
      "...                       ...              ...   \n",
      "971082      Alexander P. Vogt           APVogt   \n",
      "971083                   ahzy           ahhhzy   \n",
      "971084               watchdog     wilke_tobias   \n",
      "971085                  Debra          drdeblk   \n",
      "971086        Dunken K Bliths    DunkenKBliths   \n",
      "\n",
      "                                         user_description  ...  \\\n",
      "0       🌐 Noticias de interés para latinos de la costa...  ...   \n",
      "1       Profilo ufficiale di Tgcom24: tutte le notizie...  ...   \n",
      "2       Will mock for food! Freelance writer, blogger,...  ...   \n",
      "3       If he doesn't tweet for some time, should we b...  ...   \n",
      "4       Washington Correspondent, Lebanese-American ,c...  ...   \n",
      "...                                                   ...  ...   \n",
      "971082  Wenn das Aussprechen der Wahrheit »den Falsche...  ...   \n",
      "971083                                                NaN  ...   \n",
      "971084  Quis custodiet ipsos custodes?\\n\\nTV Journalis...  ...   \n",
      "971085  MD. Autism specialist. Film lover. #DumpTrump2020  ...   \n",
      "971086  \"Tesla owner's will be followed back\"\\n\\n#Mach...  ...   \n",
      "\n",
      "       user_followers_count                 user_location         lat  \\\n",
      "0                    1860.0  Philadelphia, PA / Miami, FL    25.77427   \n",
      "1                 1067661.0                           NaN         NaN   \n",
      "2                    1185.0                      Portland  45.5202471   \n",
      "3                      32.0                           NaN         NaN   \n",
      "4                    5393.0                 Washington DC  38.8949924   \n",
      "...                     ...                           ...         ...   \n",
      "971082               2106.0                           NaN         NaN   \n",
      "971083                 19.0                           NaN         NaN   \n",
      "971084               3014.0                    Saxony/GER         NaN   \n",
      "971085               1079.0                           NaN         NaN   \n",
      "971086              12192.0    ✔ Official Twitter Account         NaN   \n",
      "\n",
      "                long        city                   country      continent  \\\n",
      "0          -80.19366         NaN  United States of America  North America   \n",
      "1                NaN         NaN                       NaN            NaN   \n",
      "2       -122.6741949    Portland  United States of America  North America   \n",
      "3                NaN         NaN                       NaN            NaN   \n",
      "4        -77.0365581  Washington  United States of America  North America   \n",
      "...              ...         ...                       ...            ...   \n",
      "971082           NaN         NaN                       NaN            NaN   \n",
      "971083           NaN         NaN                       NaN            NaN   \n",
      "971084           NaN         NaN                       NaN            NaN   \n",
      "971085           NaN         NaN                       NaN            NaN   \n",
      "971086           NaN         NaN                       NaN            NaN   \n",
      "\n",
      "                       state state_code                   collected_at  \n",
      "0                    Florida         FL            2020-10-21 00:00:00  \n",
      "1                        NaN        NaN  2020-10-21 00:00:00.373216530  \n",
      "2                     Oregon         OR  2020-10-21 00:00:00.746433060  \n",
      "3                        NaN        NaN  2020-10-21 00:00:01.119649591  \n",
      "4       District of Columbia         DC  2020-10-21 00:00:01.492866121  \n",
      "...                      ...        ...                            ...  \n",
      "971082                   NaN        NaN     2020-11-09 17:47:56.036006  \n",
      "971083                   NaN        NaN     2020-11-09 17:47:55.715870  \n",
      "971084                   NaN        NaN     2020-11-09 17:47:55.975868  \n",
      "971085                   NaN        NaN     2020-11-09 17:47:56.012674  \n",
      "971086                   NaN        NaN     2020-11-09 17:47:55.807500  \n",
      "\n",
      "[971087 rows x 21 columns]>\n",
      "<bound method DataFrame.info of                  created_at                tweet_id  \\\n",
      "0       2020-10-15 00:00:01   1.316529221557252e+18   \n",
      "1       2020-10-15 00:00:18    1.31652929585929e+18   \n",
      "2       2020-10-15 00:00:20  1.3165293050069524e+18   \n",
      "3       2020-10-15 00:00:21  1.3165293080815575e+18   \n",
      "4       2020-10-15 00:00:22   1.316529312741253e+18   \n",
      "...                     ...                     ...   \n",
      "777068  2020-11-08 23:59:38  1.3255888248362353e+18   \n",
      "777069  2020-11-08 23:59:38   1.325588825654096e+18   \n",
      "777070  2020-11-08 23:59:41  1.3255888381237576e+18   \n",
      "777071  2020-11-08 23:59:52  1.3255888813460152e+18   \n",
      "777072  2020-11-08 23:59:58  1.3255889087264236e+18   \n",
      "\n",
      "                                                    tweet likes  \\\n",
      "0       #Elecciones2020 | En #Florida: #JoeBiden dice ...   0.0   \n",
      "1       #HunterBiden #HunterBidenEmails #JoeBiden #Joe...   0.0   \n",
      "2       @IslandGirlPRV @BradBeauregardJ @MeidasTouch T...   0.0   \n",
      "3       @chrislongview Watching and setting dvr. Let’s...   0.0   \n",
      "4       #censorship #HunterBiden #Biden #BidenEmails #...   1.0   \n",
      "...                                                   ...   ...   \n",
      "777068  Stop laying @CNN !\\n#Paris and #London dont gi...   0.0   \n",
      "777069  Ωχ ελπίζω να μη μας βγει  σαν τους οπαδούς του...   0.0   \n",
      "777070  L'OTAN va sortir de sa léthargie et redevenir ...  48.0   \n",
      "777071  🌎\\n\\n“#congiuntifuoriregione”\\n\\n‘Sono felice ...   1.0   \n",
      "777072  Ik moet zeggen dat ik #Biden \"the lesser of tw...   0.0   \n",
      "\n",
      "        retweet_count               source                user_id  \\\n",
      "0                 0.0            TweetDeck            360666534.0   \n",
      "1                 0.0     Twitter for iPad            809904438.0   \n",
      "2                 0.0      Twitter Web App           3494182277.0   \n",
      "3                 0.0   Twitter for iPhone  8.242596012018524e+17   \n",
      "4                 0.0      Twitter Web App  1.032806955356545e+18   \n",
      "...               ...                  ...                    ...   \n",
      "777068            0.0   Twitter for iPhone            387361991.0   \n",
      "777069            0.0  Twitter for Android            403281875.0   \n",
      "777070           14.0  Twitter for Android   7.81918265400492e+17   \n",
      "777071            1.0   Twitter for iPhone            529331509.0   \n",
      "777072            0.0  Twitter for Android            586386345.0   \n",
      "\n",
      "                                         user_name user_screen_name  \\\n",
      "0                               El Sol Latino News  elsollatinonews   \n",
      "1                                      Cheri A. 🇺🇸     Biloximeemaw   \n",
      "2                                       Flag Waver      Flag_Wavers   \n",
      "3                                    Michelle Ferg    MichelleFerg4   \n",
      "4                                   the Gold State    theegoldstate   \n",
      "...                                            ...              ...   \n",
      "777068                                     flaquet         flaquet1   \n",
      "777069                     οχι άλλο κάρβουνο 🇬🇷🗣🗣🗣         anapodoi   \n",
      "777070  🇫🇷 Alt-Droite (matricule 6921) ✝️ 🇬🇷 🇮🇹 🇦🇲    CtrlAltDroite   \n",
      "777071                                 Angelo Tani       AngeloTani   \n",
      "777072                                         Job          _JobO__   \n",
      "\n",
      "                                         user_description  ...  \\\n",
      "0       🌐 Noticias de interés para latinos de la costa...  ...   \n",
      "1       Locked and loaded Meemaw. Love God, my family ...  ...   \n",
      "2                                                     NaN  ...   \n",
      "3                                                     NaN  ...   \n",
      "4       A Silicon Valley #independent #News #Media #St...  ...   \n",
      "...                                                   ...  ...   \n",
      "777068                                                NaN  ...   \n",
      "777069       ακραία καιρικά φαινόμενα... ζήσαμε και απόψε  ...   \n",
      "777070  Fils de mineur. Libertés - Identité - Solidari...  ...   \n",
      "777071                              nato a casa dei nonni  ...   \n",
      "777072                -voeg hier uw interessante bio toe-  ...   \n",
      "\n",
      "       user_followers_count                 user_location                 lat  \\\n",
      "0                    1860.0  Philadelphia, PA / Miami, FL            25.77427   \n",
      "1                    6628.0                           NaN                 NaN   \n",
      "2                    1536.0         Golden Valley Arizona          46.3040364   \n",
      "3                      27.0                           NaN                 NaN   \n",
      "4                     390.0               California, USA          36.7014631   \n",
      "...                     ...                           ...                 ...   \n",
      "777068                 27.0                         PARIS  48.856696899999996   \n",
      "777069                772.0                           NaN                 NaN   \n",
      "777070              15806.0                        France  46.603353999999996   \n",
      "777071               5974.0                             🌎                 NaN   \n",
      "777072                119.0                           NaN                 NaN   \n",
      "\n",
      "                       long   city                   country      continent  \\\n",
      "0                 -80.19366    NaN  United States of America  North America   \n",
      "1                       NaN    NaN                       NaN            NaN   \n",
      "2       -109.17143119999999    NaN  United States of America  North America   \n",
      "3                       NaN    NaN                       NaN            NaN   \n",
      "4       -118.75599740000001    NaN  United States of America  North America   \n",
      "...                     ...    ...                       ...            ...   \n",
      "777068   2.3514616000000004  Paris                    France         Europe   \n",
      "777069                  NaN    NaN                       NaN            NaN   \n",
      "777070   1.8883334999999999    NaN                    France         Europe   \n",
      "777071                  NaN    NaN                       NaN            NaN   \n",
      "777072                  NaN    NaN                       NaN            NaN   \n",
      "\n",
      "                state state_code                   collected_at  \n",
      "0             Florida         FL            2020-10-21 00:00:00  \n",
      "1                 NaN        NaN  2020-10-21 00:00:00.517827283  \n",
      "2             Montana         MT  2020-10-21 00:00:01.035654566  \n",
      "3                 NaN        NaN  2020-10-21 00:00:01.553481849  \n",
      "4          California         CA  2020-10-21 00:00:02.071309132  \n",
      "...               ...        ...                            ...  \n",
      "777068  Ile-de-France        IDF     2020-11-09 18:32:45.613547  \n",
      "777069            NaN        NaN     2020-11-09 18:32:45.947617  \n",
      "777070            NaN        NaN     2020-11-09 18:32:45.627335  \n",
      "777071            NaN        NaN     2020-11-09 18:32:45.599846  \n",
      "777072            NaN        NaN     2020-11-09 18:32:45.747707  \n",
      "\n",
      "[777073 rows x 21 columns]>\n"
     ]
    }
   ],
   "source": [
    "print(trump.info)\n",
    "print(biden.info)"
   ]
  },
  {
   "cell_type": "markdown",
   "id": "23050654",
   "metadata": {},
   "source": [
    "## Data Cleaning"
   ]
  },
  {
   "cell_type": "code",
   "execution_count": 3,
   "id": "c41ff738",
   "metadata": {},
   "outputs": [
    {
     "name": "stdout",
     "output_type": "stream",
     "text": [
      "Final Data Shape : (1748160, 22)\n",
      "\n",
      "First 2 rows:\n",
      "            created_at                tweet_id  \\\n",
      "0  2020-10-15 00:00:01   1.316529221557252e+18   \n",
      "1  2020-10-15 00:00:01  1.3165292227484303e+18   \n",
      "2  2020-10-15 00:00:02   1.316529228091847e+18   \n",
      "\n",
      "                                               tweet likes  retweet_count  \\\n",
      "0  #Elecciones2020 | En #Florida: #JoeBiden dice ...   0.0            0.0   \n",
      "1  Usa 2020, Trump contro Facebook e Twitter: cop...  26.0            9.0   \n",
      "2  #Trump: As a student I used to hear for years,...   2.0            1.0   \n",
      "\n",
      "             source      user_id           user_name user_screen_name  \\\n",
      "0         TweetDeck  360666534.0  El Sol Latino News  elsollatinonews   \n",
      "1  Social Mediaset   331617619.0             Tgcom24  MediasetTgcom24   \n",
      "2   Twitter Web App    8436472.0              snarke           snarke   \n",
      "\n",
      "                                    user_description  ...  \\\n",
      "0  🌐 Noticias de interés para latinos de la costa...  ...   \n",
      "1  Profilo ufficiale di Tgcom24: tutte le notizie...  ...   \n",
      "2  Will mock for food! Freelance writer, blogger,...  ...   \n",
      "\n",
      "                  user_location         lat          long      city  \\\n",
      "0  Philadelphia, PA / Miami, FL    25.77427     -80.19366       NaN   \n",
      "1                           NaN         NaN           NaN       NaN   \n",
      "2                      Portland  45.5202471  -122.6741949  Portland   \n",
      "\n",
      "                    country      continent    state state_code  \\\n",
      "0  United States of America  North America  Florida         FL   \n",
      "1                       NaN            NaN      NaN        NaN   \n",
      "2  United States of America  North America   Oregon         OR   \n",
      "\n",
      "                    collected_at candidate  \n",
      "0            2020-10-21 00:00:00     trump  \n",
      "1  2020-10-21 00:00:00.373216530     trump  \n",
      "2  2020-10-21 00:00:00.746433060     trump  \n",
      "\n",
      "[3 rows x 22 columns]\n"
     ]
    }
   ],
   "source": [
    "# Merging Two Dataset for better handling\n",
    "trump['candidate'] = 'trump'\n",
    "biden['candidate'] = 'biden'\n",
    "\n",
    "data = pd.concat([trump, biden])\n",
    "\n",
    "# FInal data shape\n",
    "print('Final Data Shape :', data.shape)\n",
    "\n",
    "# View the first 2 rows\n",
    "print(\"\\nFirst 2 rows:\")\n",
    "print(data.head(3))"
   ]
  },
  {
   "cell_type": "code",
   "execution_count": 4,
   "id": "154b70eb",
   "metadata": {},
   "outputs": [],
   "source": [
    "#Checking NUll values\n",
    "data.isnull().sum()\n",
    "\n",
    "# Dropping all the null values\n",
    "data.dropna(inplace=True) \n",
    "\n",
    "# #Checking again for NUll values\n",
    "# data.isnull().sum()"
   ]
  },
  {
   "cell_type": "code",
   "execution_count": 5,
   "id": "349cffbf",
   "metadata": {},
   "outputs": [
    {
     "data": {
      "text/plain": [
       "<bound method IndexOpsMixin.value_counts of 2         United States of America\n",
       "4         United States of America\n",
       "11        United States of America\n",
       "12        United States of America\n",
       "13                  United Kingdom\n",
       "                    ...           \n",
       "777047                  Bangladesh\n",
       "777048    United States of America\n",
       "777052    United States of America\n",
       "777056                      Mexico\n",
       "777063                 New Zealand\n",
       "Name: country, Length: 345212, dtype: object>"
      ]
     },
     "execution_count": 5,
     "metadata": {},
     "output_type": "execute_result"
    }
   ],
   "source": [
    "data['country'].value_counts"
   ]
  },
  {
   "cell_type": "code",
   "execution_count": 6,
   "id": "0586c6b5",
   "metadata": {},
   "outputs": [
    {
     "name": "stdout",
     "output_type": "stream",
     "text": [
      "<class 'pandas.core.frame.DataFrame'>\n",
      "Index: 345212 entries, 2 to 777063\n",
      "Data columns (total 22 columns):\n",
      " #   Column                Non-Null Count   Dtype  \n",
      "---  ------                --------------   -----  \n",
      " 0   created_at            345212 non-null  object \n",
      " 1   tweet_id              345212 non-null  object \n",
      " 2   tweet                 345212 non-null  object \n",
      " 3   likes                 345212 non-null  object \n",
      " 4   retweet_count         345212 non-null  float64\n",
      " 5   source                345212 non-null  object \n",
      " 6   user_id               345212 non-null  object \n",
      " 7   user_name             345212 non-null  object \n",
      " 8   user_screen_name      345212 non-null  object \n",
      " 9   user_description      345212 non-null  object \n",
      " 10  user_join_date        345212 non-null  object \n",
      " 11  user_followers_count  345212 non-null  object \n",
      " 12  user_location         345212 non-null  object \n",
      " 13  lat                   345212 non-null  object \n",
      " 14  long                  345212 non-null  object \n",
      " 15  city                  345212 non-null  object \n",
      " 16  country               345212 non-null  object \n",
      " 17  continent             345212 non-null  object \n",
      " 18  state                 345212 non-null  object \n",
      " 19  state_code            345212 non-null  object \n",
      " 20  collected_at          345212 non-null  object \n",
      " 21  candidate             345212 non-null  object \n",
      "dtypes: float64(1), object(21)\n",
      "memory usage: 60.6+ MB\n"
     ]
    }
   ],
   "source": [
    "data.info()"
   ]
  },
  {
   "cell_type": "code",
   "execution_count": 6,
   "id": "d20ef9ba",
   "metadata": {},
   "outputs": [],
   "source": [
    "# Clean data\n",
    "data['country'] = data['country'].replace({'United States': 'United States of America'})\n",
    "\n",
    "\n",
    "# Remove unneeded columns\n",
    "data = data.drop(columns=['tweet_id','user_id','user_name','user_screen_name',\n",
    "                                  'user_description','user_join_date','collected_at', ])\n",
    "\n",
    "# Renaming the \n",
    "data = data.rename(columns={\"retweet_count\":\"Retweets\", \"state\":\"State\", \"user_followers_count\": \"Followers\"})\n",
    "\n",
    "# Remember to turn necessary columns to integer data columns\n",
    "data['Retweets'] = pd.to_numeric(data['Retweets'], errors='coerce')  \n",
    "data['likes'] = pd.to_numeric(data['likes'], errors='coerce') \n"
   ]
  },
  {
   "cell_type": "markdown",
   "id": "89e9cce8",
   "metadata": {},
   "source": [
    "## Exploratory Data Analysis"
   ]
  },
  {
   "cell_type": "code",
   "execution_count": 8,
   "id": "a32058f0",
   "metadata": {},
   "outputs": [
    {
     "data": {
      "application/vnd.plotly.v1+json": {
       "config": {
        "plotlyServerURL": "https://plot.ly"
       },
       "data": [
        {
         "alignmentgroup": "True",
         "hovertemplate": "Candidates=%{x}<br>Number of Tweets=%{y}<extra></extra>",
         "legendgroup": "biden",
         "marker": {
          "color": "#00cc96",
          "pattern": {
           "shape": ""
          }
         },
         "name": "biden",
         "offsetgroup": "biden",
         "orientation": "v",
         "showlegend": true,
         "textposition": "auto",
         "type": "bar",
         "x": [
          "biden"
         ],
         "xaxis": "x",
         "y": [
          155945
         ],
         "yaxis": "y"
        },
        {
         "alignmentgroup": "True",
         "hovertemplate": "Candidates=%{x}<br>Number of Tweets=%{y}<extra></extra>",
         "legendgroup": "trump",
         "marker": {
          "color": "#ab63fa",
          "pattern": {
           "shape": ""
          }
         },
         "name": "trump",
         "offsetgroup": "trump",
         "orientation": "v",
         "showlegend": true,
         "textposition": "auto",
         "type": "bar",
         "x": [
          "trump"
         ],
         "xaxis": "x",
         "y": [
          189267
         ],
         "yaxis": "y"
        }
       ],
       "layout": {
        "barmode": "relative",
        "legend": {
         "title": {
          "text": "Candidates"
         },
         "tracegroupgap": 0
        },
        "template": {
         "data": {
          "bar": [
           {
            "error_x": {
             "color": "#2a3f5f"
            },
            "error_y": {
             "color": "#2a3f5f"
            },
            "marker": {
             "line": {
              "color": "#E5ECF6",
              "width": 0.5
             },
             "pattern": {
              "fillmode": "overlay",
              "size": 10,
              "solidity": 0.2
             }
            },
            "type": "bar"
           }
          ],
          "barpolar": [
           {
            "marker": {
             "line": {
              "color": "#E5ECF6",
              "width": 0.5
             },
             "pattern": {
              "fillmode": "overlay",
              "size": 10,
              "solidity": 0.2
             }
            },
            "type": "barpolar"
           }
          ],
          "carpet": [
           {
            "aaxis": {
             "endlinecolor": "#2a3f5f",
             "gridcolor": "white",
             "linecolor": "white",
             "minorgridcolor": "white",
             "startlinecolor": "#2a3f5f"
            },
            "baxis": {
             "endlinecolor": "#2a3f5f",
             "gridcolor": "white",
             "linecolor": "white",
             "minorgridcolor": "white",
             "startlinecolor": "#2a3f5f"
            },
            "type": "carpet"
           }
          ],
          "choropleth": [
           {
            "colorbar": {
             "outlinewidth": 0,
             "ticks": ""
            },
            "type": "choropleth"
           }
          ],
          "contour": [
           {
            "colorbar": {
             "outlinewidth": 0,
             "ticks": ""
            },
            "colorscale": [
             [
              0,
              "#0d0887"
             ],
             [
              0.1111111111111111,
              "#46039f"
             ],
             [
              0.2222222222222222,
              "#7201a8"
             ],
             [
              0.3333333333333333,
              "#9c179e"
             ],
             [
              0.4444444444444444,
              "#bd3786"
             ],
             [
              0.5555555555555556,
              "#d8576b"
             ],
             [
              0.6666666666666666,
              "#ed7953"
             ],
             [
              0.7777777777777778,
              "#fb9f3a"
             ],
             [
              0.8888888888888888,
              "#fdca26"
             ],
             [
              1,
              "#f0f921"
             ]
            ],
            "type": "contour"
           }
          ],
          "contourcarpet": [
           {
            "colorbar": {
             "outlinewidth": 0,
             "ticks": ""
            },
            "type": "contourcarpet"
           }
          ],
          "heatmap": [
           {
            "colorbar": {
             "outlinewidth": 0,
             "ticks": ""
            },
            "colorscale": [
             [
              0,
              "#0d0887"
             ],
             [
              0.1111111111111111,
              "#46039f"
             ],
             [
              0.2222222222222222,
              "#7201a8"
             ],
             [
              0.3333333333333333,
              "#9c179e"
             ],
             [
              0.4444444444444444,
              "#bd3786"
             ],
             [
              0.5555555555555556,
              "#d8576b"
             ],
             [
              0.6666666666666666,
              "#ed7953"
             ],
             [
              0.7777777777777778,
              "#fb9f3a"
             ],
             [
              0.8888888888888888,
              "#fdca26"
             ],
             [
              1,
              "#f0f921"
             ]
            ],
            "type": "heatmap"
           }
          ],
          "heatmapgl": [
           {
            "colorbar": {
             "outlinewidth": 0,
             "ticks": ""
            },
            "colorscale": [
             [
              0,
              "#0d0887"
             ],
             [
              0.1111111111111111,
              "#46039f"
             ],
             [
              0.2222222222222222,
              "#7201a8"
             ],
             [
              0.3333333333333333,
              "#9c179e"
             ],
             [
              0.4444444444444444,
              "#bd3786"
             ],
             [
              0.5555555555555556,
              "#d8576b"
             ],
             [
              0.6666666666666666,
              "#ed7953"
             ],
             [
              0.7777777777777778,
              "#fb9f3a"
             ],
             [
              0.8888888888888888,
              "#fdca26"
             ],
             [
              1,
              "#f0f921"
             ]
            ],
            "type": "heatmapgl"
           }
          ],
          "histogram": [
           {
            "marker": {
             "pattern": {
              "fillmode": "overlay",
              "size": 10,
              "solidity": 0.2
             }
            },
            "type": "histogram"
           }
          ],
          "histogram2d": [
           {
            "colorbar": {
             "outlinewidth": 0,
             "ticks": ""
            },
            "colorscale": [
             [
              0,
              "#0d0887"
             ],
             [
              0.1111111111111111,
              "#46039f"
             ],
             [
              0.2222222222222222,
              "#7201a8"
             ],
             [
              0.3333333333333333,
              "#9c179e"
             ],
             [
              0.4444444444444444,
              "#bd3786"
             ],
             [
              0.5555555555555556,
              "#d8576b"
             ],
             [
              0.6666666666666666,
              "#ed7953"
             ],
             [
              0.7777777777777778,
              "#fb9f3a"
             ],
             [
              0.8888888888888888,
              "#fdca26"
             ],
             [
              1,
              "#f0f921"
             ]
            ],
            "type": "histogram2d"
           }
          ],
          "histogram2dcontour": [
           {
            "colorbar": {
             "outlinewidth": 0,
             "ticks": ""
            },
            "colorscale": [
             [
              0,
              "#0d0887"
             ],
             [
              0.1111111111111111,
              "#46039f"
             ],
             [
              0.2222222222222222,
              "#7201a8"
             ],
             [
              0.3333333333333333,
              "#9c179e"
             ],
             [
              0.4444444444444444,
              "#bd3786"
             ],
             [
              0.5555555555555556,
              "#d8576b"
             ],
             [
              0.6666666666666666,
              "#ed7953"
             ],
             [
              0.7777777777777778,
              "#fb9f3a"
             ],
             [
              0.8888888888888888,
              "#fdca26"
             ],
             [
              1,
              "#f0f921"
             ]
            ],
            "type": "histogram2dcontour"
           }
          ],
          "mesh3d": [
           {
            "colorbar": {
             "outlinewidth": 0,
             "ticks": ""
            },
            "type": "mesh3d"
           }
          ],
          "parcoords": [
           {
            "line": {
             "colorbar": {
              "outlinewidth": 0,
              "ticks": ""
             }
            },
            "type": "parcoords"
           }
          ],
          "pie": [
           {
            "automargin": true,
            "type": "pie"
           }
          ],
          "scatter": [
           {
            "fillpattern": {
             "fillmode": "overlay",
             "size": 10,
             "solidity": 0.2
            },
            "type": "scatter"
           }
          ],
          "scatter3d": [
           {
            "line": {
             "colorbar": {
              "outlinewidth": 0,
              "ticks": ""
             }
            },
            "marker": {
             "colorbar": {
              "outlinewidth": 0,
              "ticks": ""
             }
            },
            "type": "scatter3d"
           }
          ],
          "scattercarpet": [
           {
            "marker": {
             "colorbar": {
              "outlinewidth": 0,
              "ticks": ""
             }
            },
            "type": "scattercarpet"
           }
          ],
          "scattergeo": [
           {
            "marker": {
             "colorbar": {
              "outlinewidth": 0,
              "ticks": ""
             }
            },
            "type": "scattergeo"
           }
          ],
          "scattergl": [
           {
            "marker": {
             "colorbar": {
              "outlinewidth": 0,
              "ticks": ""
             }
            },
            "type": "scattergl"
           }
          ],
          "scattermapbox": [
           {
            "marker": {
             "colorbar": {
              "outlinewidth": 0,
              "ticks": ""
             }
            },
            "type": "scattermapbox"
           }
          ],
          "scatterpolar": [
           {
            "marker": {
             "colorbar": {
              "outlinewidth": 0,
              "ticks": ""
             }
            },
            "type": "scatterpolar"
           }
          ],
          "scatterpolargl": [
           {
            "marker": {
             "colorbar": {
              "outlinewidth": 0,
              "ticks": ""
             }
            },
            "type": "scatterpolargl"
           }
          ],
          "scatterternary": [
           {
            "marker": {
             "colorbar": {
              "outlinewidth": 0,
              "ticks": ""
             }
            },
            "type": "scatterternary"
           }
          ],
          "surface": [
           {
            "colorbar": {
             "outlinewidth": 0,
             "ticks": ""
            },
            "colorscale": [
             [
              0,
              "#0d0887"
             ],
             [
              0.1111111111111111,
              "#46039f"
             ],
             [
              0.2222222222222222,
              "#7201a8"
             ],
             [
              0.3333333333333333,
              "#9c179e"
             ],
             [
              0.4444444444444444,
              "#bd3786"
             ],
             [
              0.5555555555555556,
              "#d8576b"
             ],
             [
              0.6666666666666666,
              "#ed7953"
             ],
             [
              0.7777777777777778,
              "#fb9f3a"
             ],
             [
              0.8888888888888888,
              "#fdca26"
             ],
             [
              1,
              "#f0f921"
             ]
            ],
            "type": "surface"
           }
          ],
          "table": [
           {
            "cells": {
             "fill": {
              "color": "#EBF0F8"
             },
             "line": {
              "color": "white"
             }
            },
            "header": {
             "fill": {
              "color": "#C8D4E3"
             },
             "line": {
              "color": "white"
             }
            },
            "type": "table"
           }
          ]
         },
         "layout": {
          "annotationdefaults": {
           "arrowcolor": "#2a3f5f",
           "arrowhead": 0,
           "arrowwidth": 1
          },
          "autotypenumbers": "strict",
          "coloraxis": {
           "colorbar": {
            "outlinewidth": 0,
            "ticks": ""
           }
          },
          "colorscale": {
           "diverging": [
            [
             0,
             "#8e0152"
            ],
            [
             0.1,
             "#c51b7d"
            ],
            [
             0.2,
             "#de77ae"
            ],
            [
             0.3,
             "#f1b6da"
            ],
            [
             0.4,
             "#fde0ef"
            ],
            [
             0.5,
             "#f7f7f7"
            ],
            [
             0.6,
             "#e6f5d0"
            ],
            [
             0.7,
             "#b8e186"
            ],
            [
             0.8,
             "#7fbc41"
            ],
            [
             0.9,
             "#4d9221"
            ],
            [
             1,
             "#276419"
            ]
           ],
           "sequential": [
            [
             0,
             "#0d0887"
            ],
            [
             0.1111111111111111,
             "#46039f"
            ],
            [
             0.2222222222222222,
             "#7201a8"
            ],
            [
             0.3333333333333333,
             "#9c179e"
            ],
            [
             0.4444444444444444,
             "#bd3786"
            ],
            [
             0.5555555555555556,
             "#d8576b"
            ],
            [
             0.6666666666666666,
             "#ed7953"
            ],
            [
             0.7777777777777778,
             "#fb9f3a"
            ],
            [
             0.8888888888888888,
             "#fdca26"
            ],
            [
             1,
             "#f0f921"
            ]
           ],
           "sequentialminus": [
            [
             0,
             "#0d0887"
            ],
            [
             0.1111111111111111,
             "#46039f"
            ],
            [
             0.2222222222222222,
             "#7201a8"
            ],
            [
             0.3333333333333333,
             "#9c179e"
            ],
            [
             0.4444444444444444,
             "#bd3786"
            ],
            [
             0.5555555555555556,
             "#d8576b"
            ],
            [
             0.6666666666666666,
             "#ed7953"
            ],
            [
             0.7777777777777778,
             "#fb9f3a"
            ],
            [
             0.8888888888888888,
             "#fdca26"
            ],
            [
             1,
             "#f0f921"
            ]
           ]
          },
          "colorway": [
           "#636efa",
           "#EF553B",
           "#00cc96",
           "#ab63fa",
           "#FFA15A",
           "#19d3f3",
           "#FF6692",
           "#B6E880",
           "#FF97FF",
           "#FECB52"
          ],
          "font": {
           "color": "#2a3f5f"
          },
          "geo": {
           "bgcolor": "white",
           "lakecolor": "white",
           "landcolor": "#E5ECF6",
           "showlakes": true,
           "showland": true,
           "subunitcolor": "white"
          },
          "hoverlabel": {
           "align": "left"
          },
          "hovermode": "closest",
          "mapbox": {
           "style": "light"
          },
          "paper_bgcolor": "white",
          "plot_bgcolor": "#E5ECF6",
          "polar": {
           "angularaxis": {
            "gridcolor": "white",
            "linecolor": "white",
            "ticks": ""
           },
           "bgcolor": "#E5ECF6",
           "radialaxis": {
            "gridcolor": "white",
            "linecolor": "white",
            "ticks": ""
           }
          },
          "scene": {
           "xaxis": {
            "backgroundcolor": "#E5ECF6",
            "gridcolor": "white",
            "gridwidth": 2,
            "linecolor": "white",
            "showbackground": true,
            "ticks": "",
            "zerolinecolor": "white"
           },
           "yaxis": {
            "backgroundcolor": "#E5ECF6",
            "gridcolor": "white",
            "gridwidth": 2,
            "linecolor": "white",
            "showbackground": true,
            "ticks": "",
            "zerolinecolor": "white"
           },
           "zaxis": {
            "backgroundcolor": "#E5ECF6",
            "gridcolor": "white",
            "gridwidth": 2,
            "linecolor": "white",
            "showbackground": true,
            "ticks": "",
            "zerolinecolor": "white"
           }
          },
          "shapedefaults": {
           "line": {
            "color": "#2a3f5f"
           }
          },
          "ternary": {
           "aaxis": {
            "gridcolor": "white",
            "linecolor": "white",
            "ticks": ""
           },
           "baxis": {
            "gridcolor": "white",
            "linecolor": "white",
            "ticks": ""
           },
           "bgcolor": "#E5ECF6",
           "caxis": {
            "gridcolor": "white",
            "linecolor": "white",
            "ticks": ""
           }
          },
          "title": {
           "x": 0.05
          },
          "xaxis": {
           "automargin": true,
           "gridcolor": "white",
           "linecolor": "white",
           "ticks": "",
           "title": {
            "standoff": 15
           },
           "zerolinecolor": "white",
           "zerolinewidth": 2
          },
          "yaxis": {
           "automargin": true,
           "gridcolor": "white",
           "linecolor": "white",
           "ticks": "",
           "title": {
            "standoff": 15
           },
           "zerolinecolor": "white",
           "zerolinewidth": 2
          }
         }
        },
        "title": {
         "text": "Tweets for Candidates"
        },
        "xaxis": {
         "anchor": "y",
         "categoryarray": [
          "biden",
          "trump"
         ],
         "categoryorder": "array",
         "domain": [
          0,
          1
         ],
         "title": {
          "text": "Candidates"
         }
        },
        "yaxis": {
         "anchor": "x",
         "domain": [
          0,
          1
         ],
         "title": {
          "text": "Number of Tweets"
         }
        }
       }
      }
     },
     "metadata": {},
     "output_type": "display_data"
    }
   ],
   "source": [
    "# First, we can group the data by 'candidate' and check see whether which representative has more tweet than the other\n",
    "tweets_count = data.groupby('candidate')['tweet'].count().reset_index()\n",
    "\n",
    "# Bar Chart\n",
    "fig = px.bar(tweets_count, x='candidate', y='tweet', color='candidate',\n",
    "color_discrete_map = {'Trump':'pink', 'Biden':'blue'}, \n",
    "labels={'candidate': 'Candidates', 'tweet': 'Number of Tweets'}, \n",
    "title='Tweets for Candidates') \n",
    "\n",
    "# Show the chart\n",
    "fig.show()"
   ]
  },
  {
   "cell_type": "code",
   "execution_count": 9,
   "id": "e57e9674",
   "metadata": {},
   "outputs": [
    {
     "data": {
      "application/vnd.plotly.v1+json": {
       "config": {
        "plotlyServerURL": "https://plot.ly"
       },
       "data": [
        {
         "alignmentgroup": "True",
         "hovertemplate": "Candidate=%{x}<br>Total Likes=%{y}<extra></extra>",
         "legendgroup": "biden",
         "marker": {
          "color": "#00cc96",
          "pattern": {
           "shape": ""
          }
         },
         "name": "biden",
         "offsetgroup": "biden",
         "orientation": "v",
         "showlegend": true,
         "textposition": "auto",
         "type": "bar",
         "x": [
          "biden"
         ],
         "xaxis": "x",
         "y": [
          2736567
         ],
         "yaxis": "y"
        },
        {
         "alignmentgroup": "True",
         "hovertemplate": "Candidate=%{x}<br>Total Likes=%{y}<extra></extra>",
         "legendgroup": "trump",
         "marker": {
          "color": "#ab63fa",
          "pattern": {
           "shape": ""
          }
         },
         "name": "trump",
         "offsetgroup": "trump",
         "orientation": "v",
         "showlegend": true,
         "textposition": "auto",
         "type": "bar",
         "x": [
          "trump"
         ],
         "xaxis": "x",
         "y": [
          2267705
         ],
         "yaxis": "y"
        }
       ],
       "layout": {
        "barmode": "relative",
        "font": {
         "color": "white"
        },
        "legend": {
         "title": {
          "text": "Candidate"
         },
         "tracegroupgap": 0
        },
        "paper_bgcolor": "black",
        "plot_bgcolor": "black",
        "template": {
         "data": {
          "bar": [
           {
            "error_x": {
             "color": "#2a3f5f"
            },
            "error_y": {
             "color": "#2a3f5f"
            },
            "marker": {
             "line": {
              "color": "#E5ECF6",
              "width": 0.5
             },
             "pattern": {
              "fillmode": "overlay",
              "size": 10,
              "solidity": 0.2
             }
            },
            "type": "bar"
           }
          ],
          "barpolar": [
           {
            "marker": {
             "line": {
              "color": "#E5ECF6",
              "width": 0.5
             },
             "pattern": {
              "fillmode": "overlay",
              "size": 10,
              "solidity": 0.2
             }
            },
            "type": "barpolar"
           }
          ],
          "carpet": [
           {
            "aaxis": {
             "endlinecolor": "#2a3f5f",
             "gridcolor": "white",
             "linecolor": "white",
             "minorgridcolor": "white",
             "startlinecolor": "#2a3f5f"
            },
            "baxis": {
             "endlinecolor": "#2a3f5f",
             "gridcolor": "white",
             "linecolor": "white",
             "minorgridcolor": "white",
             "startlinecolor": "#2a3f5f"
            },
            "type": "carpet"
           }
          ],
          "choropleth": [
           {
            "colorbar": {
             "outlinewidth": 0,
             "ticks": ""
            },
            "type": "choropleth"
           }
          ],
          "contour": [
           {
            "colorbar": {
             "outlinewidth": 0,
             "ticks": ""
            },
            "colorscale": [
             [
              0,
              "#0d0887"
             ],
             [
              0.1111111111111111,
              "#46039f"
             ],
             [
              0.2222222222222222,
              "#7201a8"
             ],
             [
              0.3333333333333333,
              "#9c179e"
             ],
             [
              0.4444444444444444,
              "#bd3786"
             ],
             [
              0.5555555555555556,
              "#d8576b"
             ],
             [
              0.6666666666666666,
              "#ed7953"
             ],
             [
              0.7777777777777778,
              "#fb9f3a"
             ],
             [
              0.8888888888888888,
              "#fdca26"
             ],
             [
              1,
              "#f0f921"
             ]
            ],
            "type": "contour"
           }
          ],
          "contourcarpet": [
           {
            "colorbar": {
             "outlinewidth": 0,
             "ticks": ""
            },
            "type": "contourcarpet"
           }
          ],
          "heatmap": [
           {
            "colorbar": {
             "outlinewidth": 0,
             "ticks": ""
            },
            "colorscale": [
             [
              0,
              "#0d0887"
             ],
             [
              0.1111111111111111,
              "#46039f"
             ],
             [
              0.2222222222222222,
              "#7201a8"
             ],
             [
              0.3333333333333333,
              "#9c179e"
             ],
             [
              0.4444444444444444,
              "#bd3786"
             ],
             [
              0.5555555555555556,
              "#d8576b"
             ],
             [
              0.6666666666666666,
              "#ed7953"
             ],
             [
              0.7777777777777778,
              "#fb9f3a"
             ],
             [
              0.8888888888888888,
              "#fdca26"
             ],
             [
              1,
              "#f0f921"
             ]
            ],
            "type": "heatmap"
           }
          ],
          "heatmapgl": [
           {
            "colorbar": {
             "outlinewidth": 0,
             "ticks": ""
            },
            "colorscale": [
             [
              0,
              "#0d0887"
             ],
             [
              0.1111111111111111,
              "#46039f"
             ],
             [
              0.2222222222222222,
              "#7201a8"
             ],
             [
              0.3333333333333333,
              "#9c179e"
             ],
             [
              0.4444444444444444,
              "#bd3786"
             ],
             [
              0.5555555555555556,
              "#d8576b"
             ],
             [
              0.6666666666666666,
              "#ed7953"
             ],
             [
              0.7777777777777778,
              "#fb9f3a"
             ],
             [
              0.8888888888888888,
              "#fdca26"
             ],
             [
              1,
              "#f0f921"
             ]
            ],
            "type": "heatmapgl"
           }
          ],
          "histogram": [
           {
            "marker": {
             "pattern": {
              "fillmode": "overlay",
              "size": 10,
              "solidity": 0.2
             }
            },
            "type": "histogram"
           }
          ],
          "histogram2d": [
           {
            "colorbar": {
             "outlinewidth": 0,
             "ticks": ""
            },
            "colorscale": [
             [
              0,
              "#0d0887"
             ],
             [
              0.1111111111111111,
              "#46039f"
             ],
             [
              0.2222222222222222,
              "#7201a8"
             ],
             [
              0.3333333333333333,
              "#9c179e"
             ],
             [
              0.4444444444444444,
              "#bd3786"
             ],
             [
              0.5555555555555556,
              "#d8576b"
             ],
             [
              0.6666666666666666,
              "#ed7953"
             ],
             [
              0.7777777777777778,
              "#fb9f3a"
             ],
             [
              0.8888888888888888,
              "#fdca26"
             ],
             [
              1,
              "#f0f921"
             ]
            ],
            "type": "histogram2d"
           }
          ],
          "histogram2dcontour": [
           {
            "colorbar": {
             "outlinewidth": 0,
             "ticks": ""
            },
            "colorscale": [
             [
              0,
              "#0d0887"
             ],
             [
              0.1111111111111111,
              "#46039f"
             ],
             [
              0.2222222222222222,
              "#7201a8"
             ],
             [
              0.3333333333333333,
              "#9c179e"
             ],
             [
              0.4444444444444444,
              "#bd3786"
             ],
             [
              0.5555555555555556,
              "#d8576b"
             ],
             [
              0.6666666666666666,
              "#ed7953"
             ],
             [
              0.7777777777777778,
              "#fb9f3a"
             ],
             [
              0.8888888888888888,
              "#fdca26"
             ],
             [
              1,
              "#f0f921"
             ]
            ],
            "type": "histogram2dcontour"
           }
          ],
          "mesh3d": [
           {
            "colorbar": {
             "outlinewidth": 0,
             "ticks": ""
            },
            "type": "mesh3d"
           }
          ],
          "parcoords": [
           {
            "line": {
             "colorbar": {
              "outlinewidth": 0,
              "ticks": ""
             }
            },
            "type": "parcoords"
           }
          ],
          "pie": [
           {
            "automargin": true,
            "type": "pie"
           }
          ],
          "scatter": [
           {
            "fillpattern": {
             "fillmode": "overlay",
             "size": 10,
             "solidity": 0.2
            },
            "type": "scatter"
           }
          ],
          "scatter3d": [
           {
            "line": {
             "colorbar": {
              "outlinewidth": 0,
              "ticks": ""
             }
            },
            "marker": {
             "colorbar": {
              "outlinewidth": 0,
              "ticks": ""
             }
            },
            "type": "scatter3d"
           }
          ],
          "scattercarpet": [
           {
            "marker": {
             "colorbar": {
              "outlinewidth": 0,
              "ticks": ""
             }
            },
            "type": "scattercarpet"
           }
          ],
          "scattergeo": [
           {
            "marker": {
             "colorbar": {
              "outlinewidth": 0,
              "ticks": ""
             }
            },
            "type": "scattergeo"
           }
          ],
          "scattergl": [
           {
            "marker": {
             "colorbar": {
              "outlinewidth": 0,
              "ticks": ""
             }
            },
            "type": "scattergl"
           }
          ],
          "scattermapbox": [
           {
            "marker": {
             "colorbar": {
              "outlinewidth": 0,
              "ticks": ""
             }
            },
            "type": "scattermapbox"
           }
          ],
          "scatterpolar": [
           {
            "marker": {
             "colorbar": {
              "outlinewidth": 0,
              "ticks": ""
             }
            },
            "type": "scatterpolar"
           }
          ],
          "scatterpolargl": [
           {
            "marker": {
             "colorbar": {
              "outlinewidth": 0,
              "ticks": ""
             }
            },
            "type": "scatterpolargl"
           }
          ],
          "scatterternary": [
           {
            "marker": {
             "colorbar": {
              "outlinewidth": 0,
              "ticks": ""
             }
            },
            "type": "scatterternary"
           }
          ],
          "surface": [
           {
            "colorbar": {
             "outlinewidth": 0,
             "ticks": ""
            },
            "colorscale": [
             [
              0,
              "#0d0887"
             ],
             [
              0.1111111111111111,
              "#46039f"
             ],
             [
              0.2222222222222222,
              "#7201a8"
             ],
             [
              0.3333333333333333,
              "#9c179e"
             ],
             [
              0.4444444444444444,
              "#bd3786"
             ],
             [
              0.5555555555555556,
              "#d8576b"
             ],
             [
              0.6666666666666666,
              "#ed7953"
             ],
             [
              0.7777777777777778,
              "#fb9f3a"
             ],
             [
              0.8888888888888888,
              "#fdca26"
             ],
             [
              1,
              "#f0f921"
             ]
            ],
            "type": "surface"
           }
          ],
          "table": [
           {
            "cells": {
             "fill": {
              "color": "#EBF0F8"
             },
             "line": {
              "color": "white"
             }
            },
            "header": {
             "fill": {
              "color": "#C8D4E3"
             },
             "line": {
              "color": "white"
             }
            },
            "type": "table"
           }
          ]
         },
         "layout": {
          "annotationdefaults": {
           "arrowcolor": "#2a3f5f",
           "arrowhead": 0,
           "arrowwidth": 1
          },
          "autotypenumbers": "strict",
          "coloraxis": {
           "colorbar": {
            "outlinewidth": 0,
            "ticks": ""
           }
          },
          "colorscale": {
           "diverging": [
            [
             0,
             "#8e0152"
            ],
            [
             0.1,
             "#c51b7d"
            ],
            [
             0.2,
             "#de77ae"
            ],
            [
             0.3,
             "#f1b6da"
            ],
            [
             0.4,
             "#fde0ef"
            ],
            [
             0.5,
             "#f7f7f7"
            ],
            [
             0.6,
             "#e6f5d0"
            ],
            [
             0.7,
             "#b8e186"
            ],
            [
             0.8,
             "#7fbc41"
            ],
            [
             0.9,
             "#4d9221"
            ],
            [
             1,
             "#276419"
            ]
           ],
           "sequential": [
            [
             0,
             "#0d0887"
            ],
            [
             0.1111111111111111,
             "#46039f"
            ],
            [
             0.2222222222222222,
             "#7201a8"
            ],
            [
             0.3333333333333333,
             "#9c179e"
            ],
            [
             0.4444444444444444,
             "#bd3786"
            ],
            [
             0.5555555555555556,
             "#d8576b"
            ],
            [
             0.6666666666666666,
             "#ed7953"
            ],
            [
             0.7777777777777778,
             "#fb9f3a"
            ],
            [
             0.8888888888888888,
             "#fdca26"
            ],
            [
             1,
             "#f0f921"
            ]
           ],
           "sequentialminus": [
            [
             0,
             "#0d0887"
            ],
            [
             0.1111111111111111,
             "#46039f"
            ],
            [
             0.2222222222222222,
             "#7201a8"
            ],
            [
             0.3333333333333333,
             "#9c179e"
            ],
            [
             0.4444444444444444,
             "#bd3786"
            ],
            [
             0.5555555555555556,
             "#d8576b"
            ],
            [
             0.6666666666666666,
             "#ed7953"
            ],
            [
             0.7777777777777778,
             "#fb9f3a"
            ],
            [
             0.8888888888888888,
             "#fdca26"
            ],
            [
             1,
             "#f0f921"
            ]
           ]
          },
          "colorway": [
           "#636efa",
           "#EF553B",
           "#00cc96",
           "#ab63fa",
           "#FFA15A",
           "#19d3f3",
           "#FF6692",
           "#B6E880",
           "#FF97FF",
           "#FECB52"
          ],
          "font": {
           "color": "#2a3f5f"
          },
          "geo": {
           "bgcolor": "white",
           "lakecolor": "white",
           "landcolor": "#E5ECF6",
           "showlakes": true,
           "showland": true,
           "subunitcolor": "white"
          },
          "hoverlabel": {
           "align": "left"
          },
          "hovermode": "closest",
          "mapbox": {
           "style": "light"
          },
          "paper_bgcolor": "white",
          "plot_bgcolor": "#E5ECF6",
          "polar": {
           "angularaxis": {
            "gridcolor": "white",
            "linecolor": "white",
            "ticks": ""
           },
           "bgcolor": "#E5ECF6",
           "radialaxis": {
            "gridcolor": "white",
            "linecolor": "white",
            "ticks": ""
           }
          },
          "scene": {
           "xaxis": {
            "backgroundcolor": "#E5ECF6",
            "gridcolor": "white",
            "gridwidth": 2,
            "linecolor": "white",
            "showbackground": true,
            "ticks": "",
            "zerolinecolor": "white"
           },
           "yaxis": {
            "backgroundcolor": "#E5ECF6",
            "gridcolor": "white",
            "gridwidth": 2,
            "linecolor": "white",
            "showbackground": true,
            "ticks": "",
            "zerolinecolor": "white"
           },
           "zaxis": {
            "backgroundcolor": "#E5ECF6",
            "gridcolor": "white",
            "gridwidth": 2,
            "linecolor": "white",
            "showbackground": true,
            "ticks": "",
            "zerolinecolor": "white"
           }
          },
          "shapedefaults": {
           "line": {
            "color": "#2a3f5f"
           }
          },
          "ternary": {
           "aaxis": {
            "gridcolor": "white",
            "linecolor": "white",
            "ticks": ""
           },
           "baxis": {
            "gridcolor": "white",
            "linecolor": "white",
            "ticks": ""
           },
           "bgcolor": "#E5ECF6",
           "caxis": {
            "gridcolor": "white",
            "linecolor": "white",
            "ticks": ""
           }
          },
          "title": {
           "x": 0.05
          },
          "xaxis": {
           "automargin": true,
           "gridcolor": "white",
           "linecolor": "white",
           "ticks": "",
           "title": {
            "standoff": 15
           },
           "zerolinecolor": "white",
           "zerolinewidth": 2
          },
          "yaxis": {
           "automargin": true,
           "gridcolor": "white",
           "linecolor": "white",
           "ticks": "",
           "title": {
            "standoff": 15
           },
           "zerolinecolor": "white",
           "zerolinewidth": 2
          }
         }
        },
        "title": {
         "text": "Comparison of Likes"
        },
        "xaxis": {
         "anchor": "y",
         "categoryarray": [
          "biden",
          "trump"
         ],
         "categoryorder": "array",
         "domain": [
          0,
          1
         ],
         "title": {
          "text": "Candidate"
         }
        },
        "yaxis": {
         "anchor": "x",
         "domain": [
          0,
          1
         ],
         "title": {
          "text": "Total Likes"
         }
        }
       }
      }
     },
     "metadata": {},
     "output_type": "display_data"
    }
   ],
   "source": [
    "# Second we can check whether the candidates tweets likes count and based on the likes can have a initial prediction\n",
    "# Interactive bar chart \n",
    "likes_comparison = data.groupby('candidate')['likes'].sum().reset_index() \n",
    "fig = px.bar(likes_comparison, x='candidate', y='likes', color='candidate', \n",
    "color_discrete_map={'Trump': 'blue', 'Biden': 'green'}, \n",
    "labels={'candidate': 'Candidate', 'likes': 'Total Likes'}, \n",
    "title='Comparison of Likes') \n",
    "\n",
    "# Update the layout with a black theme \n",
    "fig.update_layout(plot_bgcolor='black', \n",
    "paper_bgcolor='black', font_color='white') \n",
    "\n",
    "# Show the chart \n",
    "fig.show() "
   ]
  },
  {
   "cell_type": "code",
   "execution_count": 10,
   "id": "5b43ab97",
   "metadata": {},
   "outputs": [
    {
     "data": {
      "application/vnd.plotly.v1+json": {
       "config": {
        "plotlyServerURL": "https://plot.ly"
       },
       "data": [
        {
         "alignmentgroup": "True",
         "hovertemplate": "country=%{x}<br>tweet=%{y}<extra></extra>",
         "legendgroup": "",
         "marker": {
          "color": "#AF0038",
          "pattern": {
           "shape": ""
          }
         },
         "name": "",
         "offsetgroup": "",
         "orientation": "v",
         "showlegend": false,
         "textposition": "auto",
         "type": "bar",
         "x": [
          "United States of America",
          "United Kingdom",
          "India",
          "France",
          "Germany",
          "Canada",
          "The Netherlands",
          "Australia",
          "Spain",
          "Brazil"
         ],
         "xaxis": "x",
         "y": [
          182380,
          31867,
          20931,
          19989,
          18534,
          16250,
          8491,
          8330,
          5253,
          4211
         ],
         "yaxis": "y"
        }
       ],
       "layout": {
        "barmode": "relative",
        "legend": {
         "tracegroupgap": 0
        },
        "template": {
         "data": {
          "bar": [
           {
            "error_x": {
             "color": "#f2f5fa"
            },
            "error_y": {
             "color": "#f2f5fa"
            },
            "marker": {
             "line": {
              "color": "rgb(17,17,17)",
              "width": 0.5
             },
             "pattern": {
              "fillmode": "overlay",
              "size": 10,
              "solidity": 0.2
             }
            },
            "type": "bar"
           }
          ],
          "barpolar": [
           {
            "marker": {
             "line": {
              "color": "rgb(17,17,17)",
              "width": 0.5
             },
             "pattern": {
              "fillmode": "overlay",
              "size": 10,
              "solidity": 0.2
             }
            },
            "type": "barpolar"
           }
          ],
          "carpet": [
           {
            "aaxis": {
             "endlinecolor": "#A2B1C6",
             "gridcolor": "#506784",
             "linecolor": "#506784",
             "minorgridcolor": "#506784",
             "startlinecolor": "#A2B1C6"
            },
            "baxis": {
             "endlinecolor": "#A2B1C6",
             "gridcolor": "#506784",
             "linecolor": "#506784",
             "minorgridcolor": "#506784",
             "startlinecolor": "#A2B1C6"
            },
            "type": "carpet"
           }
          ],
          "choropleth": [
           {
            "colorbar": {
             "outlinewidth": 0,
             "ticks": ""
            },
            "type": "choropleth"
           }
          ],
          "contour": [
           {
            "colorbar": {
             "outlinewidth": 0,
             "ticks": ""
            },
            "colorscale": [
             [
              0,
              "#0d0887"
             ],
             [
              0.1111111111111111,
              "#46039f"
             ],
             [
              0.2222222222222222,
              "#7201a8"
             ],
             [
              0.3333333333333333,
              "#9c179e"
             ],
             [
              0.4444444444444444,
              "#bd3786"
             ],
             [
              0.5555555555555556,
              "#d8576b"
             ],
             [
              0.6666666666666666,
              "#ed7953"
             ],
             [
              0.7777777777777778,
              "#fb9f3a"
             ],
             [
              0.8888888888888888,
              "#fdca26"
             ],
             [
              1,
              "#f0f921"
             ]
            ],
            "type": "contour"
           }
          ],
          "contourcarpet": [
           {
            "colorbar": {
             "outlinewidth": 0,
             "ticks": ""
            },
            "type": "contourcarpet"
           }
          ],
          "heatmap": [
           {
            "colorbar": {
             "outlinewidth": 0,
             "ticks": ""
            },
            "colorscale": [
             [
              0,
              "#0d0887"
             ],
             [
              0.1111111111111111,
              "#46039f"
             ],
             [
              0.2222222222222222,
              "#7201a8"
             ],
             [
              0.3333333333333333,
              "#9c179e"
             ],
             [
              0.4444444444444444,
              "#bd3786"
             ],
             [
              0.5555555555555556,
              "#d8576b"
             ],
             [
              0.6666666666666666,
              "#ed7953"
             ],
             [
              0.7777777777777778,
              "#fb9f3a"
             ],
             [
              0.8888888888888888,
              "#fdca26"
             ],
             [
              1,
              "#f0f921"
             ]
            ],
            "type": "heatmap"
           }
          ],
          "heatmapgl": [
           {
            "colorbar": {
             "outlinewidth": 0,
             "ticks": ""
            },
            "colorscale": [
             [
              0,
              "#0d0887"
             ],
             [
              0.1111111111111111,
              "#46039f"
             ],
             [
              0.2222222222222222,
              "#7201a8"
             ],
             [
              0.3333333333333333,
              "#9c179e"
             ],
             [
              0.4444444444444444,
              "#bd3786"
             ],
             [
              0.5555555555555556,
              "#d8576b"
             ],
             [
              0.6666666666666666,
              "#ed7953"
             ],
             [
              0.7777777777777778,
              "#fb9f3a"
             ],
             [
              0.8888888888888888,
              "#fdca26"
             ],
             [
              1,
              "#f0f921"
             ]
            ],
            "type": "heatmapgl"
           }
          ],
          "histogram": [
           {
            "marker": {
             "pattern": {
              "fillmode": "overlay",
              "size": 10,
              "solidity": 0.2
             }
            },
            "type": "histogram"
           }
          ],
          "histogram2d": [
           {
            "colorbar": {
             "outlinewidth": 0,
             "ticks": ""
            },
            "colorscale": [
             [
              0,
              "#0d0887"
             ],
             [
              0.1111111111111111,
              "#46039f"
             ],
             [
              0.2222222222222222,
              "#7201a8"
             ],
             [
              0.3333333333333333,
              "#9c179e"
             ],
             [
              0.4444444444444444,
              "#bd3786"
             ],
             [
              0.5555555555555556,
              "#d8576b"
             ],
             [
              0.6666666666666666,
              "#ed7953"
             ],
             [
              0.7777777777777778,
              "#fb9f3a"
             ],
             [
              0.8888888888888888,
              "#fdca26"
             ],
             [
              1,
              "#f0f921"
             ]
            ],
            "type": "histogram2d"
           }
          ],
          "histogram2dcontour": [
           {
            "colorbar": {
             "outlinewidth": 0,
             "ticks": ""
            },
            "colorscale": [
             [
              0,
              "#0d0887"
             ],
             [
              0.1111111111111111,
              "#46039f"
             ],
             [
              0.2222222222222222,
              "#7201a8"
             ],
             [
              0.3333333333333333,
              "#9c179e"
             ],
             [
              0.4444444444444444,
              "#bd3786"
             ],
             [
              0.5555555555555556,
              "#d8576b"
             ],
             [
              0.6666666666666666,
              "#ed7953"
             ],
             [
              0.7777777777777778,
              "#fb9f3a"
             ],
             [
              0.8888888888888888,
              "#fdca26"
             ],
             [
              1,
              "#f0f921"
             ]
            ],
            "type": "histogram2dcontour"
           }
          ],
          "mesh3d": [
           {
            "colorbar": {
             "outlinewidth": 0,
             "ticks": ""
            },
            "type": "mesh3d"
           }
          ],
          "parcoords": [
           {
            "line": {
             "colorbar": {
              "outlinewidth": 0,
              "ticks": ""
             }
            },
            "type": "parcoords"
           }
          ],
          "pie": [
           {
            "automargin": true,
            "type": "pie"
           }
          ],
          "scatter": [
           {
            "marker": {
             "line": {
              "color": "#283442"
             }
            },
            "type": "scatter"
           }
          ],
          "scatter3d": [
           {
            "line": {
             "colorbar": {
              "outlinewidth": 0,
              "ticks": ""
             }
            },
            "marker": {
             "colorbar": {
              "outlinewidth": 0,
              "ticks": ""
             }
            },
            "type": "scatter3d"
           }
          ],
          "scattercarpet": [
           {
            "marker": {
             "colorbar": {
              "outlinewidth": 0,
              "ticks": ""
             }
            },
            "type": "scattercarpet"
           }
          ],
          "scattergeo": [
           {
            "marker": {
             "colorbar": {
              "outlinewidth": 0,
              "ticks": ""
             }
            },
            "type": "scattergeo"
           }
          ],
          "scattergl": [
           {
            "marker": {
             "line": {
              "color": "#283442"
             }
            },
            "type": "scattergl"
           }
          ],
          "scattermapbox": [
           {
            "marker": {
             "colorbar": {
              "outlinewidth": 0,
              "ticks": ""
             }
            },
            "type": "scattermapbox"
           }
          ],
          "scatterpolar": [
           {
            "marker": {
             "colorbar": {
              "outlinewidth": 0,
              "ticks": ""
             }
            },
            "type": "scatterpolar"
           }
          ],
          "scatterpolargl": [
           {
            "marker": {
             "colorbar": {
              "outlinewidth": 0,
              "ticks": ""
             }
            },
            "type": "scatterpolargl"
           }
          ],
          "scatterternary": [
           {
            "marker": {
             "colorbar": {
              "outlinewidth": 0,
              "ticks": ""
             }
            },
            "type": "scatterternary"
           }
          ],
          "surface": [
           {
            "colorbar": {
             "outlinewidth": 0,
             "ticks": ""
            },
            "colorscale": [
             [
              0,
              "#0d0887"
             ],
             [
              0.1111111111111111,
              "#46039f"
             ],
             [
              0.2222222222222222,
              "#7201a8"
             ],
             [
              0.3333333333333333,
              "#9c179e"
             ],
             [
              0.4444444444444444,
              "#bd3786"
             ],
             [
              0.5555555555555556,
              "#d8576b"
             ],
             [
              0.6666666666666666,
              "#ed7953"
             ],
             [
              0.7777777777777778,
              "#fb9f3a"
             ],
             [
              0.8888888888888888,
              "#fdca26"
             ],
             [
              1,
              "#f0f921"
             ]
            ],
            "type": "surface"
           }
          ],
          "table": [
           {
            "cells": {
             "fill": {
              "color": "#506784"
             },
             "line": {
              "color": "rgb(17,17,17)"
             }
            },
            "header": {
             "fill": {
              "color": "#2a3f5f"
             },
             "line": {
              "color": "rgb(17,17,17)"
             }
            },
            "type": "table"
           }
          ]
         },
         "layout": {
          "annotationdefaults": {
           "arrowcolor": "#f2f5fa",
           "arrowhead": 0,
           "arrowwidth": 1
          },
          "autotypenumbers": "strict",
          "coloraxis": {
           "colorbar": {
            "outlinewidth": 0,
            "ticks": ""
           }
          },
          "colorscale": {
           "diverging": [
            [
             0,
             "#8e0152"
            ],
            [
             0.1,
             "#c51b7d"
            ],
            [
             0.2,
             "#de77ae"
            ],
            [
             0.3,
             "#f1b6da"
            ],
            [
             0.4,
             "#fde0ef"
            ],
            [
             0.5,
             "#f7f7f7"
            ],
            [
             0.6,
             "#e6f5d0"
            ],
            [
             0.7,
             "#b8e186"
            ],
            [
             0.8,
             "#7fbc41"
            ],
            [
             0.9,
             "#4d9221"
            ],
            [
             1,
             "#276419"
            ]
           ],
           "sequential": [
            [
             0,
             "#0d0887"
            ],
            [
             0.1111111111111111,
             "#46039f"
            ],
            [
             0.2222222222222222,
             "#7201a8"
            ],
            [
             0.3333333333333333,
             "#9c179e"
            ],
            [
             0.4444444444444444,
             "#bd3786"
            ],
            [
             0.5555555555555556,
             "#d8576b"
            ],
            [
             0.6666666666666666,
             "#ed7953"
            ],
            [
             0.7777777777777778,
             "#fb9f3a"
            ],
            [
             0.8888888888888888,
             "#fdca26"
            ],
            [
             1,
             "#f0f921"
            ]
           ],
           "sequentialminus": [
            [
             0,
             "#0d0887"
            ],
            [
             0.1111111111111111,
             "#46039f"
            ],
            [
             0.2222222222222222,
             "#7201a8"
            ],
            [
             0.3333333333333333,
             "#9c179e"
            ],
            [
             0.4444444444444444,
             "#bd3786"
            ],
            [
             0.5555555555555556,
             "#d8576b"
            ],
            [
             0.6666666666666666,
             "#ed7953"
            ],
            [
             0.7777777777777778,
             "#fb9f3a"
            ],
            [
             0.8888888888888888,
             "#fdca26"
            ],
            [
             1,
             "#f0f921"
            ]
           ]
          },
          "colorway": [
           "#636efa",
           "#EF553B",
           "#00cc96",
           "#ab63fa",
           "#FFA15A",
           "#19d3f3",
           "#FF6692",
           "#B6E880",
           "#FF97FF",
           "#FECB52"
          ],
          "font": {
           "color": "#f2f5fa"
          },
          "geo": {
           "bgcolor": "rgb(17,17,17)",
           "lakecolor": "rgb(17,17,17)",
           "landcolor": "rgb(17,17,17)",
           "showlakes": true,
           "showland": true,
           "subunitcolor": "#506784"
          },
          "hoverlabel": {
           "align": "left"
          },
          "hovermode": "closest",
          "mapbox": {
           "style": "dark"
          },
          "paper_bgcolor": "rgb(17,17,17)",
          "plot_bgcolor": "rgb(17,17,17)",
          "polar": {
           "angularaxis": {
            "gridcolor": "#506784",
            "linecolor": "#506784",
            "ticks": ""
           },
           "bgcolor": "rgb(17,17,17)",
           "radialaxis": {
            "gridcolor": "#506784",
            "linecolor": "#506784",
            "ticks": ""
           }
          },
          "scene": {
           "xaxis": {
            "backgroundcolor": "rgb(17,17,17)",
            "gridcolor": "#506784",
            "gridwidth": 2,
            "linecolor": "#506784",
            "showbackground": true,
            "ticks": "",
            "zerolinecolor": "#C8D4E3"
           },
           "yaxis": {
            "backgroundcolor": "rgb(17,17,17)",
            "gridcolor": "#506784",
            "gridwidth": 2,
            "linecolor": "#506784",
            "showbackground": true,
            "ticks": "",
            "zerolinecolor": "#C8D4E3"
           },
           "zaxis": {
            "backgroundcolor": "rgb(17,17,17)",
            "gridcolor": "#506784",
            "gridwidth": 2,
            "linecolor": "#506784",
            "showbackground": true,
            "ticks": "",
            "zerolinecolor": "#C8D4E3"
           }
          },
          "shapedefaults": {
           "line": {
            "color": "#f2f5fa"
           }
          },
          "sliderdefaults": {
           "bgcolor": "#C8D4E3",
           "bordercolor": "rgb(17,17,17)",
           "borderwidth": 1,
           "tickwidth": 0
          },
          "ternary": {
           "aaxis": {
            "gridcolor": "#506784",
            "linecolor": "#506784",
            "ticks": ""
           },
           "baxis": {
            "gridcolor": "#506784",
            "linecolor": "#506784",
            "ticks": ""
           },
           "bgcolor": "rgb(17,17,17)",
           "caxis": {
            "gridcolor": "#506784",
            "linecolor": "#506784",
            "ticks": ""
           }
          },
          "title": {
           "x": 0.05
          },
          "updatemenudefaults": {
           "bgcolor": "#506784",
           "borderwidth": 0
          },
          "xaxis": {
           "automargin": true,
           "gridcolor": "#283442",
           "linecolor": "#506784",
           "ticks": "",
           "title": {
            "standoff": 15
           },
           "zerolinecolor": "#283442",
           "zerolinewidth": 2
          },
          "yaxis": {
           "automargin": true,
           "gridcolor": "#283442",
           "linecolor": "#506784",
           "ticks": "",
           "title": {
            "standoff": 15
           },
           "zerolinecolor": "#283442",
           "zerolinewidth": 2
          }
         }
        },
        "title": {
         "text": "Top10 Countrywise tweets Counts"
        },
        "xaxis": {
         "anchor": "y",
         "domain": [
          0,
          1
         ],
         "title": {
          "text": "country"
         }
        },
        "yaxis": {
         "anchor": "x",
         "domain": [
          0,
          1
         ],
         "title": {
          "text": "tweet"
         }
        }
       }
      }
     },
     "metadata": {},
     "output_type": "display_data"
    }
   ],
   "source": [
    "# Next, we will look through which country is actively tweeting during the elections\n",
    "top10countries = data.groupby('country')['tweet'].count( \n",
    ").sort_values(ascending=False).reset_index().head(10) \n",
    "# top10countries \n",
    "\n",
    "# Interactive bar chart \n",
    "fig = px.bar(top10countries, x='country', y='tweet', \n",
    "template='plotly_dark', \n",
    "color_discrete_sequence=px.colors.qualitative.Dark24_r, \n",
    "title='Top10 Countrywise tweets Counts') \n",
    "\n",
    "# To view the graph \n",
    "fig.show() "
   ]
  },
  {
   "cell_type": "markdown",
   "id": "88874e63",
   "metadata": {},
   "source": [
    "## Sentiment Analysis Cleaning"
   ]
  },
  {
   "cell_type": "code",
   "execution_count": 7,
   "id": "9fdbc21d",
   "metadata": {},
   "outputs": [],
   "source": [
    "def clean_tweet_text_regex(tweet):\n",
    "    tweet = tweet.lower() # to lower case\n",
    "    tweet = re.sub(r'https?://\\S+|www\\.\\S+', '', str(tweet)) # Remove URLs\n",
    "    tweet = re.sub(r\"@[A-Za-z0-9]+\",\"\", tweet) # Remove @Mentions\n",
    "    tweet = re.sub(r\"#\",\"\", tweet) # remove # \\ART[\\s]+\n",
    "    tweet = re.sub(r\"\\ART[\\s]+\",\"\", tweet) # Remove RT in start\n",
    "    tweet = re.sub(r\"https?:\\/\\/\\S+\",\"\", tweet) # Remove hyperlink\n",
    "    tweet = re.sub(\"(.)\\\\1{2,}\",\"\\\\1\", tweet) # Remove more than one characters.\n",
    "    tweet = re.sub(r\"[^A-Za-z0-9\\s]+\", \"\",str(tweet)) #remove special characters \"!\"\n",
    "    \n",
    "\n",
    "    # Split the tweet into single words \n",
    "    tweet = tweet.split() \n",
    "\n",
    "\t# Initialize WordNetLemmatizer \n",
    "    lm = WordNetLemmatizer() \n",
    "\n",
    "\t# Lemmatize words and remove stopwords \n",
    "    tweet = [lm.lemmatize(word) for word in tweet if word not in set( \n",
    "\t\tstopwords.words('english'))] \n",
    "\n",
    "\t# Join the words back into a sentence \n",
    "    tweet = ' '.join(word for word in tweet)\n",
    "    \n",
    "    return tweet"
   ]
  },
  {
   "cell_type": "markdown",
   "id": "c1193cd0",
   "metadata": {},
   "source": [
    "## Trump Sentiment Analysis"
   ]
  },
  {
   "cell_type": "code",
   "execution_count": 8,
   "id": "bb91df8e",
   "metadata": {},
   "outputs": [
    {
     "name": "stdout",
     "output_type": "stream",
     "text": [
      "                                                tweet\n",
      "2   #Trump: As a student I used to hear for years,...\n",
      "4   You get a tie! And you get a tie! #Trump ‘s ra...\n",
      "11  In 2020, #NYPost is being #censorship #CENSORE...\n",
      "12  #Trump #PresidentTrump #Trump2020LandslideVict...\n",
      "22  #Trump: Nobody likes to tell you this, but som...\n",
      "                                                tweet\n",
      "2   #Trump: As a student I used to hear for years,...\n",
      "4   You get a tie! And you get a tie! #Trump ‘s ra...\n",
      "11  In 2020, #NYPost is being #censorship #CENSORE...\n",
      "12  #Trump #PresidentTrump #Trump2020LandslideVict...\n",
      "22  #Trump: Nobody likes to tell you this, but som...\n"
     ]
    }
   ],
   "source": [
    "trump_tweets_textblob = data[data['candidate'] == 'trump']\n",
    "trump_tweets_vader = data[data['candidate'] == 'trump']\n",
    "\n",
    "# taking only U.S. country data \n",
    "trump_tweets_textblob = trump_tweets_textblob.loc[trump_tweets_textblob.country == 'United States of America'] \n",
    "trump_tweets_textblob= trump_tweets_textblob[['tweet']] \n",
    "print(trump_tweets_textblob.head()) \n",
    "\n",
    "# taking only U.S. country data \n",
    "trump_tweets_vader = trump_tweets_vader.loc[trump_tweets_vader.country == 'United States of America'] \n",
    "trump_tweets_vader= trump_tweets_vader[['tweet']] \n",
    "print(trump_tweets_vader.head()) "
   ]
  },
  {
   "cell_type": "markdown",
   "id": "7f34ccbd",
   "metadata": {},
   "source": [
    "### Textblob"
   ]
  },
  {
   "cell_type": "code",
   "execution_count": 9,
   "id": "165589ec",
   "metadata": {},
   "outputs": [],
   "source": [
    "def getpolarity(text): \n",
    "    return TextBlob(text).sentiment.polarity \n",
    "\n",
    "def getsubjectivity(text): \n",
    "    return TextBlob(text).sentiment.subjectivity\n",
    "\n",
    "def getAnalysis(score): \n",
    "    if score < 0: \n",
    "        return 'negative'\n",
    "    elif score == 0: \n",
    "        return 'neutral'\n",
    "    else: \n",
    "        return 'positive'"
   ]
  },
  {
   "cell_type": "code",
   "execution_count": 10,
   "id": "b802db04",
   "metadata": {},
   "outputs": [
    {
     "name": "stdout",
     "output_type": "stream",
     "text": [
      "                                                tweet  \\\n",
      "2   #Trump: As a student I used to hear for years,...   \n",
      "4   You get a tie! And you get a tie! #Trump ‘s ra...   \n",
      "11  In 2020, #NYPost is being #censorship #CENSORE...   \n",
      "12  #Trump #PresidentTrump #Trump2020LandslideVict...   \n",
      "22  #Trump: Nobody likes to tell you this, but som...   \n",
      "\n",
      "                                            cleantext  \n",
      "2   trump student used hear year ten year heard ch...  \n",
      "4                    get tie get tie trump rally iowa  \n",
      "11  2020 nypost censorship censored twitter manipu...  \n",
      "12  trump presidenttrump trump2020landslidevictory...  \n",
      "22  trump nobody like tell farmer better way worki...  \n",
      "                                                    tweet  \\\n",
      "2       #Trump: As a student I used to hear for years,...   \n",
      "4       You get a tie! And you get a tie! #Trump ‘s ra...   \n",
      "11      In 2020, #NYPost is being #censorship #CENSORE...   \n",
      "12      #Trump #PresidentTrump #Trump2020LandslideVict...   \n",
      "22      #Trump: Nobody likes to tell you this, but som...   \n",
      "...                                                   ...   \n",
      "971033  #VanJones #cnn #CNNSOTU #Trump #BidenHarris202...   \n",
      "971043  #election #2020Elections #trump #biden https:/...   \n",
      "971049  @RBReich Bob,\\nit's pretty straight forward.\\n...   \n",
      "971058  Cómo pasó el abogado de Trump de un hotel a un...   \n",
      "971063  Have you know decency #Trump  @GOP? Do you kno...   \n",
      "\n",
      "                                                cleantext  \n",
      "2       trump student used hear year ten year heard ch...  \n",
      "4                        get tie get tie trump rally iowa  \n",
      "11      2020 nypost censorship censored twitter manipu...  \n",
      "12      trump presidenttrump trump2020landslidevictory...  \n",
      "22      trump nobody like tell farmer better way worki...  \n",
      "...                                                   ...  \n",
      "971033         vanjones cnn cnnsotu trump bidenharris2020  \n",
      "971043                 election 2020elections trump biden  \n",
      "971049  bob pretty straight forward trump concedes not...  \n",
      "971058  cmo pa el abogado de trump de un hotel un apar...  \n",
      "971063  know decency trump know like child diebillheat...  \n",
      "\n",
      "[96621 rows x 2 columns]\n"
     ]
    }
   ],
   "source": [
    "trump_tweets_textblob['cleantext'] = trump_tweets_textblob['tweet'].apply(clean_tweet_text_regex) \n",
    "print(trump_tweets_textblob.head())\n",
    "\n",
    "trump_tweets_vader = trump_tweets_textblob.copy()\n",
    "print(trump_tweets_vader)"
   ]
  },
  {
   "cell_type": "code",
   "execution_count": 11,
   "id": "92e8b3f4",
   "metadata": {},
   "outputs": [
    {
     "data": {
      "text/html": [
       "<div>\n",
       "<style scoped>\n",
       "    .dataframe tbody tr th:only-of-type {\n",
       "        vertical-align: middle;\n",
       "    }\n",
       "\n",
       "    .dataframe tbody tr th {\n",
       "        vertical-align: top;\n",
       "    }\n",
       "\n",
       "    .dataframe thead th {\n",
       "        text-align: right;\n",
       "    }\n",
       "</style>\n",
       "<table border=\"1\" class=\"dataframe\">\n",
       "  <thead>\n",
       "    <tr style=\"text-align: right;\">\n",
       "      <th></th>\n",
       "      <th>tweet</th>\n",
       "      <th>cleantext</th>\n",
       "      <th>subjectivity</th>\n",
       "      <th>polarity</th>\n",
       "      <th>analysis</th>\n",
       "    </tr>\n",
       "  </thead>\n",
       "  <tbody>\n",
       "    <tr>\n",
       "      <th>2</th>\n",
       "      <td>#Trump: As a student I used to hear for years,...</td>\n",
       "      <td>trump student used hear year ten year heard ch...</td>\n",
       "      <td>0.333333</td>\n",
       "      <td>0.333333</td>\n",
       "      <td>positive</td>\n",
       "    </tr>\n",
       "    <tr>\n",
       "      <th>4</th>\n",
       "      <td>You get a tie! And you get a tie! #Trump ‘s ra...</td>\n",
       "      <td>get tie get tie trump rally iowa</td>\n",
       "      <td>0.000000</td>\n",
       "      <td>0.000000</td>\n",
       "      <td>neutral</td>\n",
       "    </tr>\n",
       "    <tr>\n",
       "      <th>11</th>\n",
       "      <td>In 2020, #NYPost is being #censorship #CENSORE...</td>\n",
       "      <td>2020 nypost censorship censored twitter manipu...</td>\n",
       "      <td>0.678571</td>\n",
       "      <td>-0.148810</td>\n",
       "      <td>negative</td>\n",
       "    </tr>\n",
       "    <tr>\n",
       "      <th>12</th>\n",
       "      <td>#Trump #PresidentTrump #Trump2020LandslideVict...</td>\n",
       "      <td>trump presidenttrump trump2020landslidevictory...</td>\n",
       "      <td>0.750000</td>\n",
       "      <td>0.500000</td>\n",
       "      <td>positive</td>\n",
       "    </tr>\n",
       "    <tr>\n",
       "      <th>22</th>\n",
       "      <td>#Trump: Nobody likes to tell you this, but som...</td>\n",
       "      <td>trump nobody like tell farmer better way worki...</td>\n",
       "      <td>0.595238</td>\n",
       "      <td>0.261905</td>\n",
       "      <td>positive</td>\n",
       "    </tr>\n",
       "  </tbody>\n",
       "</table>\n",
       "</div>"
      ],
      "text/plain": [
       "                                                tweet  \\\n",
       "2   #Trump: As a student I used to hear for years,...   \n",
       "4   You get a tie! And you get a tie! #Trump ‘s ra...   \n",
       "11  In 2020, #NYPost is being #censorship #CENSORE...   \n",
       "12  #Trump #PresidentTrump #Trump2020LandslideVict...   \n",
       "22  #Trump: Nobody likes to tell you this, but som...   \n",
       "\n",
       "                                            cleantext  subjectivity  polarity  \\\n",
       "2   trump student used hear year ten year heard ch...      0.333333  0.333333   \n",
       "4                    get tie get tie trump rally iowa      0.000000  0.000000   \n",
       "11  2020 nypost censorship censored twitter manipu...      0.678571 -0.148810   \n",
       "12  trump presidenttrump trump2020landslidevictory...      0.750000  0.500000   \n",
       "22  trump nobody like tell farmer better way worki...      0.595238  0.261905   \n",
       "\n",
       "    analysis  \n",
       "2   positive  \n",
       "4    neutral  \n",
       "11  negative  \n",
       "12  positive  \n",
       "22  positive  "
      ]
     },
     "execution_count": 11,
     "metadata": {},
     "output_type": "execute_result"
    }
   ],
   "source": [
    "trump_tweets_textblob['subjectivity'] = trump_tweets_textblob['cleantext'].apply(getsubjectivity) \n",
    "trump_tweets_textblob['polarity'] = trump_tweets_textblob['cleantext'].apply(getpolarity) \n",
    "trump_tweets_textblob['analysis'] = trump_tweets_textblob['polarity'].apply(getAnalysis) \n",
    "trump_tweets_textblob.head() "
   ]
  },
  {
   "cell_type": "markdown",
   "id": "049daf80",
   "metadata": {},
   "source": [
    "### Vader"
   ]
  },
  {
   "cell_type": "code",
   "execution_count": 13,
   "id": "08145011",
   "metadata": {},
   "outputs": [],
   "source": [
    "from vaderSentiment.vaderSentiment import SentimentIntensityAnalyzer\n",
    "\n",
    "analyzer = SentimentIntensityAnalyzer()\n",
    "\n",
    "# Get compound sentiment score from VADER\n",
    "def get_vader_score(text):\n",
    "    return analyzer.polarity_scores(text)['compound']\n",
    "\n",
    "# Get sentiment label based on VADER compound score\n",
    "def get_vader_analysis(score):\n",
    "    if score <= -0.05:\n",
    "        return 'negative'\n",
    "    elif score >= 0.05:\n",
    "        return 'positive'\n",
    "    else:\n",
    "        return 'neutral'"
   ]
  },
  {
   "cell_type": "code",
   "execution_count": 14,
   "id": "7501364f",
   "metadata": {},
   "outputs": [
    {
     "data": {
      "text/html": [
       "<div>\n",
       "<style scoped>\n",
       "    .dataframe tbody tr th:only-of-type {\n",
       "        vertical-align: middle;\n",
       "    }\n",
       "\n",
       "    .dataframe tbody tr th {\n",
       "        vertical-align: top;\n",
       "    }\n",
       "\n",
       "    .dataframe thead th {\n",
       "        text-align: right;\n",
       "    }\n",
       "</style>\n",
       "<table border=\"1\" class=\"dataframe\">\n",
       "  <thead>\n",
       "    <tr style=\"text-align: right;\">\n",
       "      <th></th>\n",
       "      <th>tweet</th>\n",
       "      <th>cleantext</th>\n",
       "      <th>vader_score</th>\n",
       "      <th>vader_label</th>\n",
       "    </tr>\n",
       "  </thead>\n",
       "  <tbody>\n",
       "    <tr>\n",
       "      <th>2</th>\n",
       "      <td>#Trump: As a student I used to hear for years,...</td>\n",
       "      <td>trump student used hear year ten year heard ch...</td>\n",
       "      <td>0.5905</td>\n",
       "      <td>positive</td>\n",
       "    </tr>\n",
       "    <tr>\n",
       "      <th>4</th>\n",
       "      <td>You get a tie! And you get a tie! #Trump ‘s ra...</td>\n",
       "      <td>get tie get tie trump rally iowa</td>\n",
       "      <td>0.0000</td>\n",
       "      <td>neutral</td>\n",
       "    </tr>\n",
       "    <tr>\n",
       "      <th>11</th>\n",
       "      <td>In 2020, #NYPost is being #censorship #CENSORE...</td>\n",
       "      <td>2020 nypost censorship censored twitter manipu...</td>\n",
       "      <td>-0.5309</td>\n",
       "      <td>negative</td>\n",
       "    </tr>\n",
       "    <tr>\n",
       "      <th>12</th>\n",
       "      <td>#Trump #PresidentTrump #Trump2020LandslideVict...</td>\n",
       "      <td>trump presidenttrump trump2020landslidevictory...</td>\n",
       "      <td>0.5267</td>\n",
       "      <td>positive</td>\n",
       "    </tr>\n",
       "    <tr>\n",
       "      <th>22</th>\n",
       "      <td>#Trump: Nobody likes to tell you this, but som...</td>\n",
       "      <td>trump nobody like tell farmer better way worki...</td>\n",
       "      <td>0.7278</td>\n",
       "      <td>positive</td>\n",
       "    </tr>\n",
       "  </tbody>\n",
       "</table>\n",
       "</div>"
      ],
      "text/plain": [
       "                                                tweet  \\\n",
       "2   #Trump: As a student I used to hear for years,...   \n",
       "4   You get a tie! And you get a tie! #Trump ‘s ra...   \n",
       "11  In 2020, #NYPost is being #censorship #CENSORE...   \n",
       "12  #Trump #PresidentTrump #Trump2020LandslideVict...   \n",
       "22  #Trump: Nobody likes to tell you this, but som...   \n",
       "\n",
       "                                            cleantext  vader_score vader_label  \n",
       "2   trump student used hear year ten year heard ch...       0.5905    positive  \n",
       "4                    get tie get tie trump rally iowa       0.0000     neutral  \n",
       "11  2020 nypost censorship censored twitter manipu...      -0.5309    negative  \n",
       "12  trump presidenttrump trump2020landslidevictory...       0.5267    positive  \n",
       "22  trump nobody like tell farmer better way worki...       0.7278    positive  "
      ]
     },
     "execution_count": 14,
     "metadata": {},
     "output_type": "execute_result"
    }
   ],
   "source": [
    "trump_tweets_vader['vader_score'] = trump_tweets_vader['tweet'].apply(get_vader_score)\n",
    "trump_tweets_vader['vader_label'] = trump_tweets_vader['vader_score'].apply(get_vader_analysis)\n",
    "trump_tweets_vader.head() "
   ]
  },
  {
   "cell_type": "markdown",
   "id": "5d6af057",
   "metadata": {},
   "source": [
    "## Biden Sentiment Analysis"
   ]
  },
  {
   "cell_type": "code",
   "execution_count": 18,
   "id": "f4c4ad0a",
   "metadata": {},
   "outputs": [],
   "source": [
    "biden_tweets = data[data['candidate'] == 'biden'] \n",
    "biden_tweets = biden_tweets.loc[biden_tweets.country == 'United States of America'] \n",
    "biden_tweets = biden_tweets[['tweet']] "
   ]
  },
  {
   "cell_type": "code",
   "execution_count": 23,
   "id": "4c4bb54b",
   "metadata": {},
   "outputs": [],
   "source": [
    "biden_tweets['cleantext']=biden_tweets['tweet'].apply(clean_tweet_text_regex) \n",
    "biden_tweets.head()\n",
    "biden_tweets_vadar = biden_tweets.copy()"
   ]
  },
  {
   "cell_type": "markdown",
   "id": "fbae1a79",
   "metadata": {},
   "source": [
    "### TextBlob"
   ]
  },
  {
   "cell_type": "code",
   "execution_count": 24,
   "id": "0bae7f2a",
   "metadata": {},
   "outputs": [
    {
     "data": {
      "text/html": [
       "<div>\n",
       "<style scoped>\n",
       "    .dataframe tbody tr th:only-of-type {\n",
       "        vertical-align: middle;\n",
       "    }\n",
       "\n",
       "    .dataframe tbody tr th {\n",
       "        vertical-align: top;\n",
       "    }\n",
       "\n",
       "    .dataframe thead th {\n",
       "        text-align: right;\n",
       "    }\n",
       "</style>\n",
       "<table border=\"1\" class=\"dataframe\">\n",
       "  <thead>\n",
       "    <tr style=\"text-align: right;\">\n",
       "      <th></th>\n",
       "      <th>tweet</th>\n",
       "      <th>cleantext</th>\n",
       "      <th>subjectivity</th>\n",
       "      <th>polarity</th>\n",
       "      <th>analysis</th>\n",
       "    </tr>\n",
       "  </thead>\n",
       "  <tbody>\n",
       "    <tr>\n",
       "      <th>6</th>\n",
       "      <td>In 2020, #NYPost is being #censorship #CENSORE...</td>\n",
       "      <td>2020 nypost censorship censored twitter manipu...</td>\n",
       "      <td>0.678571</td>\n",
       "      <td>-0.148810</td>\n",
       "      <td>negative</td>\n",
       "    </tr>\n",
       "    <tr>\n",
       "      <th>17</th>\n",
       "      <td>Comments on this? \"Do Democrats Understand how...</td>\n",
       "      <td>comment democrat understand ruthless china chi...</td>\n",
       "      <td>1.000000</td>\n",
       "      <td>-1.000000</td>\n",
       "      <td>negative</td>\n",
       "    </tr>\n",
       "    <tr>\n",
       "      <th>25</th>\n",
       "      <td>@RealJamesWoods #BidenCrimeFamily #JoeBiden #H...</td>\n",
       "      <td>bidencrimefamily joebiden hunterbiden hunterbi...</td>\n",
       "      <td>0.000000</td>\n",
       "      <td>0.000000</td>\n",
       "      <td>neutral</td>\n",
       "    </tr>\n",
       "    <tr>\n",
       "      <th>29</th>\n",
       "      <td>Come on @ABC PLEASE DO THE RIGHT THING. Move t...</td>\n",
       "      <td>come please right thing move biden town hall b...</td>\n",
       "      <td>0.178571</td>\n",
       "      <td>0.078571</td>\n",
       "      <td>positive</td>\n",
       "    </tr>\n",
       "    <tr>\n",
       "      <th>34</th>\n",
       "      <td>#realDonaldTrump addresses #JoeBiden and #Hunt...</td>\n",
       "      <td>realdonaldtrump address joebiden hunterbiden c...</td>\n",
       "      <td>0.000000</td>\n",
       "      <td>0.000000</td>\n",
       "      <td>neutral</td>\n",
       "    </tr>\n",
       "  </tbody>\n",
       "</table>\n",
       "</div>"
      ],
      "text/plain": [
       "                                                tweet  \\\n",
       "6   In 2020, #NYPost is being #censorship #CENSORE...   \n",
       "17  Comments on this? \"Do Democrats Understand how...   \n",
       "25  @RealJamesWoods #BidenCrimeFamily #JoeBiden #H...   \n",
       "29  Come on @ABC PLEASE DO THE RIGHT THING. Move t...   \n",
       "34  #realDonaldTrump addresses #JoeBiden and #Hunt...   \n",
       "\n",
       "                                            cleantext  subjectivity  polarity  \\\n",
       "6   2020 nypost censorship censored twitter manipu...      0.678571 -0.148810   \n",
       "17  comment democrat understand ruthless china chi...      1.000000 -1.000000   \n",
       "25  bidencrimefamily joebiden hunterbiden hunterbi...      0.000000  0.000000   \n",
       "29  come please right thing move biden town hall b...      0.178571  0.078571   \n",
       "34  realdonaldtrump address joebiden hunterbiden c...      0.000000  0.000000   \n",
       "\n",
       "    analysis  \n",
       "6   negative  \n",
       "17  negative  \n",
       "25   neutral  \n",
       "29  positive  \n",
       "34   neutral  "
      ]
     },
     "execution_count": 24,
     "metadata": {},
     "output_type": "execute_result"
    }
   ],
   "source": [
    "biden_tweets['subjectivity'] = biden_tweets['cleantext'].apply(getsubjectivity) \n",
    "biden_tweets['polarity'] = biden_tweets['cleantext'].apply(getpolarity) \n",
    "biden_tweets['analysis'] = biden_tweets['polarity'].apply(getAnalysis) \n",
    "biden_tweets.head() "
   ]
  },
  {
   "cell_type": "markdown",
   "id": "bfe0fa6c",
   "metadata": {},
   "source": [
    "### Vadar"
   ]
  },
  {
   "cell_type": "code",
   "execution_count": 26,
   "id": "bd1f2d54",
   "metadata": {},
   "outputs": [
    {
     "data": {
      "text/html": [
       "<div>\n",
       "<style scoped>\n",
       "    .dataframe tbody tr th:only-of-type {\n",
       "        vertical-align: middle;\n",
       "    }\n",
       "\n",
       "    .dataframe tbody tr th {\n",
       "        vertical-align: top;\n",
       "    }\n",
       "\n",
       "    .dataframe thead th {\n",
       "        text-align: right;\n",
       "    }\n",
       "</style>\n",
       "<table border=\"1\" class=\"dataframe\">\n",
       "  <thead>\n",
       "    <tr style=\"text-align: right;\">\n",
       "      <th></th>\n",
       "      <th>tweet</th>\n",
       "      <th>cleantext</th>\n",
       "      <th>vader_score</th>\n",
       "      <th>vader_label</th>\n",
       "    </tr>\n",
       "  </thead>\n",
       "  <tbody>\n",
       "    <tr>\n",
       "      <th>6</th>\n",
       "      <td>In 2020, #NYPost is being #censorship #CENSORE...</td>\n",
       "      <td>2020 nypost censorship censored twitter manipu...</td>\n",
       "      <td>-0.5309</td>\n",
       "      <td>negative</td>\n",
       "    </tr>\n",
       "    <tr>\n",
       "      <th>17</th>\n",
       "      <td>Comments on this? \"Do Democrats Understand how...</td>\n",
       "      <td>comment democrat understand ruthless china chi...</td>\n",
       "      <td>0.0000</td>\n",
       "      <td>neutral</td>\n",
       "    </tr>\n",
       "    <tr>\n",
       "      <th>25</th>\n",
       "      <td>@RealJamesWoods #BidenCrimeFamily #JoeBiden #H...</td>\n",
       "      <td>bidencrimefamily joebiden hunterbiden hunterbi...</td>\n",
       "      <td>0.0000</td>\n",
       "      <td>neutral</td>\n",
       "    </tr>\n",
       "    <tr>\n",
       "      <th>29</th>\n",
       "      <td>Come on @ABC PLEASE DO THE RIGHT THING. Move t...</td>\n",
       "      <td>come please right thing move biden town hall b...</td>\n",
       "      <td>0.7241</td>\n",
       "      <td>positive</td>\n",
       "    </tr>\n",
       "    <tr>\n",
       "      <th>34</th>\n",
       "      <td>#realDonaldTrump addresses #JoeBiden and #Hunt...</td>\n",
       "      <td>realdonaldtrump address joebiden hunterbiden c...</td>\n",
       "      <td>0.0000</td>\n",
       "      <td>neutral</td>\n",
       "    </tr>\n",
       "  </tbody>\n",
       "</table>\n",
       "</div>"
      ],
      "text/plain": [
       "                                                tweet  \\\n",
       "6   In 2020, #NYPost is being #censorship #CENSORE...   \n",
       "17  Comments on this? \"Do Democrats Understand how...   \n",
       "25  @RealJamesWoods #BidenCrimeFamily #JoeBiden #H...   \n",
       "29  Come on @ABC PLEASE DO THE RIGHT THING. Move t...   \n",
       "34  #realDonaldTrump addresses #JoeBiden and #Hunt...   \n",
       "\n",
       "                                            cleantext  vader_score vader_label  \n",
       "6   2020 nypost censorship censored twitter manipu...      -0.5309    negative  \n",
       "17  comment democrat understand ruthless china chi...       0.0000     neutral  \n",
       "25  bidencrimefamily joebiden hunterbiden hunterbi...       0.0000     neutral  \n",
       "29  come please right thing move biden town hall b...       0.7241    positive  \n",
       "34  realdonaldtrump address joebiden hunterbiden c...       0.0000     neutral  "
      ]
     },
     "execution_count": 26,
     "metadata": {},
     "output_type": "execute_result"
    }
   ],
   "source": [
    "biden_tweets_vadar['vader_score'] = biden_tweets_vadar['tweet'].apply(get_vader_score)\n",
    "biden_tweets_vadar['vader_label'] = biden_tweets_vadar['vader_score'].apply(get_vader_analysis)\n",
    "biden_tweets_vadar.head()"
   ]
  },
  {
   "cell_type": "markdown",
   "id": "6e3f505b",
   "metadata": {},
   "source": [
    "### Analysis on both vader and textblob"
   ]
  },
  {
   "cell_type": "code",
   "execution_count": null,
   "id": "0baca5d5",
   "metadata": {},
   "outputs": [],
   "source": [
    "# Ensure the tweet text is used as key for merging\n",
    "merged_trump = trump_tweets_textblob.merge(trump_tweets_vader, on='tweet', suffixes=('_textblob', '_vader'))\n",
    "merged_biden = biden_tweets.merge(biden_tweets_vadar, on='tweet', suffixes=('_textblob', '_vader'))\n",
    "\n",
    "merged_trump['agreement'] = merged_trump['analysis'] == merged_trump['vader_label']\n",
    "merged_biden['agreement'] = merged_biden['analysis'] == merged_biden['vader_label']\n",
    "\n",
    "trump_agree_rate = merged_trump['agreement'].mean()\n",
    "biden_agree_rate = merged_biden['agreement'].mean()\n"
   ]
  },
  {
   "cell_type": "code",
   "execution_count": 44,
   "id": "638a878b",
   "metadata": {},
   "outputs": [
    {
     "data": {
      "image/png": "[encoded data removed]",
      "text/plain": [
       "<Figure size 640x480 with 1 Axes>"
      ]
     },
     "metadata": {},
     "output_type": "display_data"
    },
    {
     "data": {
      "image/png": "[encoded data removed]",
      "text/plain": [
       "<Figure size 640x480 with 1 Axes>"
      ]
     },
     "metadata": {},
     "output_type": "display_data"
    }
   ],
   "source": [
    "import seaborn as sns\n",
    "import matplotlib.pyplot as plt\n",
    "\n",
    "sns.countplot(x='analysis', data=merged_trump)\n",
    "plt.title(\"Trump Tweets - TextBlob Sentiment Distribution\")\n",
    "plt.show()\n",
    "\n",
    "sns.countplot(x='vader_label', data=merged_trump)\n",
    "plt.title(\"Trump Tweets - VADER Sentiment Distribution\")\n",
    "plt.show()\n"
   ]
  },
  {
   "cell_type": "code",
   "execution_count": 47,
   "id": "5acc152e",
   "metadata": {},
   "outputs": [
    {
     "data": {
      "image/png": "[encoded data removed]",
      "text/plain": [
       "<Figure size 640x480 with 1 Axes>"
      ]
     },
     "metadata": {},
     "output_type": "display_data"
    },
    {
     "data": {
      "image/png": "[encoded data removed]",
      "text/plain": [
       "<Figure size 640x480 with 1 Axes>"
      ]
     },
     "metadata": {},
     "output_type": "display_data"
    }
   ],
   "source": [
    "import seaborn as sns\n",
    "import matplotlib.pyplot as plt\n",
    "\n",
    "# Define the desired order\n",
    "sentiment_order = ['positive', 'neutral', 'negative']\n",
    "\n",
    "# Apply categorical ordering to Biden's label column\n",
    "merged_biden['analysis'] = pd.Categorical(merged_biden['analysis'], categories=sentiment_order, ordered=True)\n",
    "merged_biden['vader_label'] = pd.Categorical(merged_biden['vader_label'], categories=sentiment_order, ordered=True)\n",
    "\n",
    "sns.countplot(x='analysis', data=merged_biden, order = sentiment_order)\n",
    "plt.title(\"Biden Tweets - TextBlob Sentiment Distribution\")\n",
    "plt.show()\n",
    "\n",
    "sns.countplot(x='vader_label', data=merged_biden, order = sentiment_order)\n",
    "plt.title(\"Biden Tweets - VADER Sentiment Distribution\")\n",
    "plt.show()\n"
   ]
  }
 ],
 "metadata": {
  "kernelspec": {
   "display_name": "base",
   "language": "python",
   "name": "python3"
  },
  "language_info": {
   "codemirror_mode": {
    "name": "ipython",
    "version": 3
   },
   "file_extension": ".py",
   "mimetype": "text/x-python",
   "name": "python",
   "nbconvert_exporter": "python",
   "pygments_lexer": "ipython3",
   "version": "3.12.7"
  }
 },
 "nbformat": 4,
 "nbformat_minor": 5
}
